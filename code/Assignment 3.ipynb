{
 "cells": [
  {
   "cell_type": "markdown",
   "metadata": {},
   "source": [
    "# Assignment 3\n",
    "In Assignment 3, we consider a random coefficient model **without the unobserved fixed effects.** \n",
    "- Description of Assignment 3: [link](https://kohei-kawaguchi.github.io/EmpiricalIO/assignment3.html)"
   ]
  },
  {
   "cell_type": "code",
   "execution_count": 1,
   "metadata": {},
   "outputs": [],
   "source": [
    "# import packages\n",
    "import pandas as pd\n",
    "import numpy as np\n",
    "import statsmodels.api as sm\n",
    "from numba import jit, njit, prange\n",
    "import matplotlib.pyplot as plt"
   ]
  },
  {
   "cell_type": "markdown",
   "metadata": {},
   "source": [
    "# 1 Simulate data"
   ]
  },
  {
   "cell_type": "markdown",
   "metadata": {},
   "source": [
    "## 1.1 Set the seed, constants, and parameters of interest."
   ]
  },
  {
   "cell_type": "code",
   "execution_count": 194,
   "metadata": {},
   "outputs": [],
   "source": [
    "# set the seed\n",
    "np.random.seed(310)\n",
    "# number of products\n",
    "J = 10\n",
    "# dimension of product characteristics including the intercept (=1)\n",
    "K = 3\n",
    "# number of markets\n",
    "T = 100\n",
    "# number of consumers per market\n",
    "N = 500\n",
    "# number of Monte Carlo\n",
    "L = 1000"
   ]
  },
  {
   "cell_type": "markdown",
   "metadata": {},
   "source": [
    "- $[\\beta_{01}, \\cdots, \\beta_{0K}]$ is referred to as beta.\n",
    "- $[\\sigma_{1}, \\cdots, \\sigma_{K}]$ is referred to as sigma."
   ]
  },
  {
   "cell_type": "code",
   "execution_count": 89,
   "metadata": {},
   "outputs": [
    {
     "name": "stdout",
     "output_type": "stream",
     "text": [
      "beta:  [[ 4.        ]\n",
      " [-0.46637271]\n",
      " [-0.74021613]]\n",
      "sigma:  [[1.7571458 ]\n",
      " [0.1486    ]\n",
      " [0.11806668]]\n"
     ]
    }
   ],
   "source": [
    "# set parameters of interest\n",
    "beta = np.random.standard_normal(size = (K,1))\n",
    "beta[0] = 4\n",
    "\n",
    "print('beta: ', beta)\n",
    "\n",
    "sigma = abs(np.random.standard_normal(size = (K,1))) \n",
    "print('sigma: ', sigma)\n",
    "\n",
    "mu = 0.5\n",
    "omega = 1"
   ]
  },
  {
   "cell_type": "code",
   "execution_count": 7,
   "metadata": {},
   "outputs": [],
   "source": [
    "# set auxiliary parameters\n",
    "price_xi = 1\n",
    "prop_jt = 0.6\n",
    "sd_x = 0.5\n",
    "sd_c = 0.05\n",
    "sd_p = 0.05"
   ]
  },
  {
   "cell_type": "markdown",
   "metadata": {},
   "source": [
    "## 1.2 X\n",
    "X is the data frame such that a row contains the characteristics vector $x_j$ of a product and columns are product index and observed product characteristics. The dimension of the characteristics $K$ is specified above. Add the row of the outside option whose index is 0 and all the characteristics are zero.\n",
    "\n",
    "- The product-market characteristics: $$x_{j1}=1, x_{jk}\\sim N(0, \\sigma_x), k=2,\\cdots,K,$$ where $\\sigma_x$ is referred to as sd_x in the code."
   ]
  },
  {
   "cell_type": "code",
   "execution_count": 100,
   "metadata": {},
   "outputs": [
    {
     "data": {
      "text/html": [
       "<div>\n",
       "<style scoped>\n",
       "    .dataframe tbody tr th:only-of-type {\n",
       "        vertical-align: middle;\n",
       "    }\n",
       "\n",
       "    .dataframe tbody tr th {\n",
       "        vertical-align: top;\n",
       "    }\n",
       "\n",
       "    .dataframe thead th {\n",
       "        text-align: right;\n",
       "    }\n",
       "</style>\n",
       "<table border=\"1\" class=\"dataframe\">\n",
       "  <thead>\n",
       "    <tr style=\"text-align: right;\">\n",
       "      <th></th>\n",
       "      <th>x_2</th>\n",
       "      <th>x_3</th>\n",
       "      <th>x_1</th>\n",
       "    </tr>\n",
       "  </thead>\n",
       "  <tbody>\n",
       "    <tr>\n",
       "      <th>0</th>\n",
       "      <td>0.440811</td>\n",
       "      <td>-0.160323</td>\n",
       "      <td>1</td>\n",
       "    </tr>\n",
       "    <tr>\n",
       "      <th>1</th>\n",
       "      <td>-0.747617</td>\n",
       "      <td>0.227789</td>\n",
       "      <td>1</td>\n",
       "    </tr>\n",
       "    <tr>\n",
       "      <th>2</th>\n",
       "      <td>1.115339</td>\n",
       "      <td>0.328095</td>\n",
       "      <td>1</td>\n",
       "    </tr>\n",
       "    <tr>\n",
       "      <th>3</th>\n",
       "      <td>-0.398086</td>\n",
       "      <td>0.621501</td>\n",
       "      <td>1</td>\n",
       "    </tr>\n",
       "    <tr>\n",
       "      <th>4</th>\n",
       "      <td>-0.092434</td>\n",
       "      <td>-0.139086</td>\n",
       "      <td>1</td>\n",
       "    </tr>\n",
       "    <tr>\n",
       "      <th>5</th>\n",
       "      <td>-0.343645</td>\n",
       "      <td>-0.423325</td>\n",
       "      <td>1</td>\n",
       "    </tr>\n",
       "    <tr>\n",
       "      <th>6</th>\n",
       "      <td>0.258434</td>\n",
       "      <td>-1.030174</td>\n",
       "      <td>1</td>\n",
       "    </tr>\n",
       "    <tr>\n",
       "      <th>7</th>\n",
       "      <td>-0.077813</td>\n",
       "      <td>-0.825724</td>\n",
       "      <td>1</td>\n",
       "    </tr>\n",
       "    <tr>\n",
       "      <th>8</th>\n",
       "      <td>0.302078</td>\n",
       "      <td>0.184634</td>\n",
       "      <td>1</td>\n",
       "    </tr>\n",
       "    <tr>\n",
       "      <th>9</th>\n",
       "      <td>0.751401</td>\n",
       "      <td>0.281817</td>\n",
       "      <td>1</td>\n",
       "    </tr>\n",
       "  </tbody>\n",
       "</table>\n",
       "</div>"
      ],
      "text/plain": [
       "        x_2       x_3  x_1\n",
       "0  0.440811 -0.160323    1\n",
       "1 -0.747617  0.227789    1\n",
       "2  1.115339  0.328095    1\n",
       "3 -0.398086  0.621501    1\n",
       "4 -0.092434 -0.139086    1\n",
       "5 -0.343645 -0.423325    1\n",
       "6  0.258434 -1.030174    1\n",
       "7 -0.077813 -0.825724    1\n",
       "8  0.302078  0.184634    1\n",
       "9  0.751401  0.281817    1"
      ]
     },
     "execution_count": 100,
     "metadata": {},
     "output_type": "execute_result"
    }
   ],
   "source": [
    "X = np.random.normal(scale = sd_x, size = (J,K-1))\n",
    "X = pd.DataFrame(X, columns = ['x_2', 'x_3'])\n",
    "X['x_1'] = 1\n",
    "\n",
    "X"
   ]
  },
  {
   "cell_type": "code",
   "execution_count": 107,
   "metadata": {},
   "outputs": [
    {
     "name": "stdout",
     "output_type": "stream",
     "text": [
      "shape of X:  (11, 4)\n"
     ]
    },
    {
     "data": {
      "text/html": [
       "<div>\n",
       "<style scoped>\n",
       "    .dataframe tbody tr th:only-of-type {\n",
       "        vertical-align: middle;\n",
       "    }\n",
       "\n",
       "    .dataframe tbody tr th {\n",
       "        vertical-align: top;\n",
       "    }\n",
       "\n",
       "    .dataframe thead th {\n",
       "        text-align: right;\n",
       "    }\n",
       "</style>\n",
       "<table border=\"1\" class=\"dataframe\">\n",
       "  <thead>\n",
       "    <tr style=\"text-align: right;\">\n",
       "      <th></th>\n",
       "      <th>x_2</th>\n",
       "      <th>x_3</th>\n",
       "      <th>x_1</th>\n",
       "      <th>j</th>\n",
       "    </tr>\n",
       "  </thead>\n",
       "  <tbody>\n",
       "    <tr>\n",
       "      <th>0</th>\n",
       "      <td>0.000000</td>\n",
       "      <td>0.000000</td>\n",
       "      <td>0</td>\n",
       "      <td>0</td>\n",
       "    </tr>\n",
       "    <tr>\n",
       "      <th>1</th>\n",
       "      <td>0.422176</td>\n",
       "      <td>-0.291138</td>\n",
       "      <td>1</td>\n",
       "      <td>1</td>\n",
       "    </tr>\n",
       "    <tr>\n",
       "      <th>2</th>\n",
       "      <td>0.035364</td>\n",
       "      <td>0.280590</td>\n",
       "      <td>1</td>\n",
       "      <td>2</td>\n",
       "    </tr>\n",
       "    <tr>\n",
       "      <th>3</th>\n",
       "      <td>0.595675</td>\n",
       "      <td>-0.218182</td>\n",
       "      <td>1</td>\n",
       "      <td>3</td>\n",
       "    </tr>\n",
       "    <tr>\n",
       "      <th>4</th>\n",
       "      <td>0.548943</td>\n",
       "      <td>0.236448</td>\n",
       "      <td>1</td>\n",
       "      <td>4</td>\n",
       "    </tr>\n",
       "  </tbody>\n",
       "</table>\n",
       "</div>"
      ],
      "text/plain": [
       "        x_2       x_3  x_1  j\n",
       "0  0.000000  0.000000    0  0\n",
       "1  0.422176 -0.291138    1  1\n",
       "2  0.035364  0.280590    1  2\n",
       "3  0.595675 -0.218182    1  3\n",
       "4  0.548943  0.236448    1  4"
      ]
     },
     "execution_count": 107,
     "metadata": {},
     "output_type": "execute_result"
    }
   ],
   "source": [
    "# X product-market characteristics\n",
    "X = np.random.normal(scale = sd_x, size = (J+1,K-1))\n",
    "X = pd.DataFrame(X, columns = ['x_2', 'x_3'])\n",
    "X['x_1'] = 1\n",
    "X['j'] = X.index\n",
    "X.loc[X['j'] == 0, ['x_1', 'x_2', 'x_3']] = 0\n",
    "\n",
    "print('shape of X: ', X.shape)\n",
    "X.head()"
   ]
  },
  {
   "cell_type": "markdown",
   "metadata": {},
   "source": [
    "## 1.3 M\n",
    "M is the data frame such that a row contains the product-market specific fixed effect $\\xi_{jt}$, marginal cost $c_{jt}$, and price $p_{jt}$. After generating the variables, drop 1 - prop_jt products from each market. The variation in the available products is important for the identification of the distribution of consumer-level unobserved heterogeneity. Add the row of the outside option to each market whose index is 0 and all the variables take value zero.\n",
    "- The product-market-specific unobserved fixed effect: $$\\xi_{jt}=0.$$\n",
    "\n",
    "- The marginal cost of product $j$ in market $t$: $$c_{jt}\\sim logNormal(0, \\sigma_c),$$ where $\\sigma_c$ is referred to as sd_c in the code.\n",
    "- The retail price: $$p_{jt}-c_{jt} \\sim logNormal(\\gamma \\xi_{jt}, \\sigma_p),$$ where $\\gamma$ is referred to as price_xi, and $\\sigma_p$ as sd_p in the code. This price is not the equilibrium price."
   ]
  },
  {
   "cell_type": "code",
   "execution_count": 179,
   "metadata": {},
   "outputs": [
    {
     "name": "stdout",
     "output_type": "stream",
     "text": [
      "shape of M:  (700, 5)\n"
     ]
    },
    {
     "data": {
      "text/html": [
       "<div>\n",
       "<style scoped>\n",
       "    .dataframe tbody tr th:only-of-type {\n",
       "        vertical-align: middle;\n",
       "    }\n",
       "\n",
       "    .dataframe tbody tr th {\n",
       "        vertical-align: top;\n",
       "    }\n",
       "\n",
       "    .dataframe thead th {\n",
       "        text-align: right;\n",
       "    }\n",
       "</style>\n",
       "<table border=\"1\" class=\"dataframe\">\n",
       "  <thead>\n",
       "    <tr style=\"text-align: right;\">\n",
       "      <th></th>\n",
       "      <th>j</th>\n",
       "      <th>t</th>\n",
       "      <th>xi</th>\n",
       "      <th>c</th>\n",
       "      <th>p</th>\n",
       "    </tr>\n",
       "  </thead>\n",
       "  <tbody>\n",
       "    <tr>\n",
       "      <th>500</th>\n",
       "      <td>6.0</td>\n",
       "      <td>1</td>\n",
       "      <td>0.0</td>\n",
       "      <td>1.103263</td>\n",
       "      <td>2.054850</td>\n",
       "    </tr>\n",
       "    <tr>\n",
       "      <th>400</th>\n",
       "      <td>5.0</td>\n",
       "      <td>1</td>\n",
       "      <td>0.0</td>\n",
       "      <td>1.087104</td>\n",
       "      <td>2.117463</td>\n",
       "    </tr>\n",
       "    <tr>\n",
       "      <th>700</th>\n",
       "      <td>8.0</td>\n",
       "      <td>1</td>\n",
       "      <td>0.0</td>\n",
       "      <td>1.024814</td>\n",
       "      <td>2.022961</td>\n",
       "    </tr>\n",
       "    <tr>\n",
       "      <th>600</th>\n",
       "      <td>7.0</td>\n",
       "      <td>1</td>\n",
       "      <td>0.0</td>\n",
       "      <td>0.945428</td>\n",
       "      <td>1.945832</td>\n",
       "    </tr>\n",
       "    <tr>\n",
       "      <th>100</th>\n",
       "      <td>2.0</td>\n",
       "      <td>1</td>\n",
       "      <td>0.0</td>\n",
       "      <td>0.955670</td>\n",
       "      <td>1.982614</td>\n",
       "    </tr>\n",
       "  </tbody>\n",
       "</table>\n",
       "</div>"
      ],
      "text/plain": [
       "       j  t   xi         c         p\n",
       "500  6.0  1  0.0  1.103263  2.054850\n",
       "400  5.0  1  0.0  1.087104  2.117463\n",
       "700  8.0  1  0.0  1.024814  2.022961\n",
       "600  7.0  1  0.0  0.945428  1.945832\n",
       "100  2.0  1  0.0  0.955670  1.982614"
      ]
     },
     "execution_count": 179,
     "metadata": {},
     "output_type": "execute_result"
    }
   ],
   "source": [
    "# j = 1, 2, ..., J; t = 1, 2, ..., T\n",
    "M = pd.DataFrame([(j+1,1) for j in range(J)], columns = ['j', 'temp'])\\\n",
    ".merge(pd.DataFrame([(t+1,1) for t in range(T)], columns = ['t', 'temp']), how = 'outer')\n",
    "M.drop(columns = 'temp', inplace =True)\n",
    "\n",
    "M['xi'] = 0\n",
    "M['c'] = np.random.lognormal(sigma = sd_c, size = (len(M),1))\n",
    "M['p'] = M.apply(lambda x: np.random.lognormal(mean = price_xi * x.xi, sigma = sd_p), axis = 1)\n",
    "M['p'] = M['p'] + M['c']\n",
    "\n",
    "M.sort_values(by = ['t', 'j'], inplace = True)\n",
    "\n",
    "# drop 1 - prop_jt products from each market\n",
    "M = M.groupby(\"t\").sample(frac = prop_jt, random_state = 230)\n",
    "\n",
    "# add the row of the outside option to each market whose index is 0 and all the variables take value zero.\n",
    "# M.loc[M.j == 0, ['xi','c', 'p']] = 0\n",
    "temp1 = M[['t']].drop_duplicates()\n",
    "for col in ['j', 'xi', 'c', 'p']:\n",
    "    temp1[col] = np.zeros(shape = (len(temp1), 1))\n",
    "\n",
    "M = pd.concat([M, temp1])\n",
    "print('shape of M: ', M.shape)\n",
    "M.head()"
   ]
  },
  {
   "cell_type": "markdown",
   "metadata": {},
   "source": [
    "## 1.4 V\n",
    "Generate the consumer-level heterogeneity. V is the data frame such that a row contains the vector of shocks to consumer-level heterogeneity, $(v_i', v_i)$ . They are all i.i.d. standard normal random variables.\n",
    "\n",
    "- $\\beta_{itk} = \\beta_{0k} + \\sigma_k v_{itk},$ where $v_{itk}$ for $k=1,2,\\cdots, K$ are i.i.d. standard normal random variables.\n",
    "  \n",
    "- $\\alpha_{it} = -exp(\\mu + \\omega v_{it}) = -exp(\\mu + \\omega^2/2) + [-exp(\\mu + \\omega v_{it}) + exp(\\mu + \\omega^2/2)] = \\alpha_0 + \\tilde{\\alpha}_{it},$ where $v_{it}$ are i.i.d. standard normal random variables."
   ]
  },
  {
   "cell_type": "code",
   "execution_count": 180,
   "metadata": {},
   "outputs": [
    {
     "name": "stdout",
     "output_type": "stream",
     "text": [
      "shape of V:  (50000, 6)\n"
     ]
    },
    {
     "data": {
      "text/html": [
       "<div>\n",
       "<style scoped>\n",
       "    .dataframe tbody tr th:only-of-type {\n",
       "        vertical-align: middle;\n",
       "    }\n",
       "\n",
       "    .dataframe tbody tr th {\n",
       "        vertical-align: top;\n",
       "    }\n",
       "\n",
       "    .dataframe thead th {\n",
       "        text-align: right;\n",
       "    }\n",
       "</style>\n",
       "<table border=\"1\" class=\"dataframe\">\n",
       "  <thead>\n",
       "    <tr style=\"text-align: right;\">\n",
       "      <th></th>\n",
       "      <th>i</th>\n",
       "      <th>t</th>\n",
       "      <th>v_x_1</th>\n",
       "      <th>v_x_2</th>\n",
       "      <th>v_x_3</th>\n",
       "      <th>v_p</th>\n",
       "    </tr>\n",
       "  </thead>\n",
       "  <tbody>\n",
       "    <tr>\n",
       "      <th>0</th>\n",
       "      <td>1</td>\n",
       "      <td>1</td>\n",
       "      <td>-0.086080</td>\n",
       "      <td>-0.151661</td>\n",
       "      <td>0.489842</td>\n",
       "      <td>0.723222</td>\n",
       "    </tr>\n",
       "    <tr>\n",
       "      <th>1</th>\n",
       "      <td>1</td>\n",
       "      <td>2</td>\n",
       "      <td>0.515722</td>\n",
       "      <td>-1.088453</td>\n",
       "      <td>-0.118181</td>\n",
       "      <td>1.225763</td>\n",
       "    </tr>\n",
       "    <tr>\n",
       "      <th>2</th>\n",
       "      <td>1</td>\n",
       "      <td>3</td>\n",
       "      <td>-0.603289</td>\n",
       "      <td>0.589829</td>\n",
       "      <td>-0.932829</td>\n",
       "      <td>-0.775375</td>\n",
       "    </tr>\n",
       "    <tr>\n",
       "      <th>3</th>\n",
       "      <td>1</td>\n",
       "      <td>4</td>\n",
       "      <td>-1.219546</td>\n",
       "      <td>-0.543320</td>\n",
       "      <td>0.947544</td>\n",
       "      <td>0.567564</td>\n",
       "    </tr>\n",
       "    <tr>\n",
       "      <th>4</th>\n",
       "      <td>1</td>\n",
       "      <td>5</td>\n",
       "      <td>-0.593763</td>\n",
       "      <td>-1.160911</td>\n",
       "      <td>-1.571937</td>\n",
       "      <td>-0.310318</td>\n",
       "    </tr>\n",
       "  </tbody>\n",
       "</table>\n",
       "</div>"
      ],
      "text/plain": [
       "   i  t     v_x_1     v_x_2     v_x_3       v_p\n",
       "0  1  1 -0.086080 -0.151661  0.489842  0.723222\n",
       "1  1  2  0.515722 -1.088453 -0.118181  1.225763\n",
       "2  1  3 -0.603289  0.589829 -0.932829 -0.775375\n",
       "3  1  4 -1.219546 -0.543320  0.947544  0.567564\n",
       "4  1  5 -0.593763 -1.160911 -1.571937 -0.310318"
      ]
     },
     "execution_count": 180,
     "metadata": {},
     "output_type": "execute_result"
    }
   ],
   "source": [
    "V = pd.DataFrame([(i+1,1) for i in range(N)], columns = ['i', 'temp'])\\\n",
    ".merge(pd.DataFrame([(t+1,1) for t in range(T)], columns = ['t', 'temp']), how = 'outer')\n",
    "V.drop(columns = 'temp', inplace =True)\n",
    "for col in ['v_x_1', 'v_x_2', 'v_x_3', 'v_p']:\n",
    "    V[col] = np.random.normal(size = (N*T, 1))\n",
    "\n",
    "print('shape of V: ', V.shape)\n",
    "V.head()"
   ]
  },
  {
   "cell_type": "markdown",
   "metadata": {},
   "source": [
    "## 1.5 df\n",
    "Join $X$, $M$, $V$ and name it df. df is the data frame such that a row contains variables for a consumer about a product that is available in a market."
   ]
  },
  {
   "cell_type": "code",
   "execution_count": 222,
   "metadata": {},
   "outputs": [
    {
     "name": "stdout",
     "output_type": "stream",
     "text": [
      "shape of df:  (350000, 13)\n"
     ]
    },
    {
     "data": {
      "text/html": [
       "<div>\n",
       "<style scoped>\n",
       "    .dataframe tbody tr th:only-of-type {\n",
       "        vertical-align: middle;\n",
       "    }\n",
       "\n",
       "    .dataframe tbody tr th {\n",
       "        vertical-align: top;\n",
       "    }\n",
       "\n",
       "    .dataframe thead th {\n",
       "        text-align: right;\n",
       "    }\n",
       "</style>\n",
       "<table border=\"1\" class=\"dataframe\">\n",
       "  <thead>\n",
       "    <tr style=\"text-align: right;\">\n",
       "      <th></th>\n",
       "      <th>x_2</th>\n",
       "      <th>x_3</th>\n",
       "      <th>x_1</th>\n",
       "      <th>j</th>\n",
       "      <th>t</th>\n",
       "      <th>xi</th>\n",
       "      <th>c</th>\n",
       "      <th>p</th>\n",
       "      <th>i</th>\n",
       "      <th>v_x_1</th>\n",
       "      <th>v_x_2</th>\n",
       "      <th>v_x_3</th>\n",
       "      <th>v_p</th>\n",
       "    </tr>\n",
       "  </thead>\n",
       "  <tbody>\n",
       "    <tr>\n",
       "      <th>0</th>\n",
       "      <td>0.000000</td>\n",
       "      <td>0.000000</td>\n",
       "      <td>0</td>\n",
       "      <td>0</td>\n",
       "      <td>1</td>\n",
       "      <td>0.0</td>\n",
       "      <td>0.000000</td>\n",
       "      <td>0.000000</td>\n",
       "      <td>1</td>\n",
       "      <td>-0.08608</td>\n",
       "      <td>-0.151661</td>\n",
       "      <td>0.489842</td>\n",
       "      <td>0.723222</td>\n",
       "    </tr>\n",
       "    <tr>\n",
       "      <th>81000</th>\n",
       "      <td>0.035364</td>\n",
       "      <td>0.280590</td>\n",
       "      <td>1</td>\n",
       "      <td>2</td>\n",
       "      <td>1</td>\n",
       "      <td>0.0</td>\n",
       "      <td>0.955670</td>\n",
       "      <td>1.982614</td>\n",
       "      <td>1</td>\n",
       "      <td>-0.08608</td>\n",
       "      <td>-0.151661</td>\n",
       "      <td>0.489842</td>\n",
       "      <td>0.723222</td>\n",
       "    </tr>\n",
       "    <tr>\n",
       "      <th>112000</th>\n",
       "      <td>0.595675</td>\n",
       "      <td>-0.218182</td>\n",
       "      <td>1</td>\n",
       "      <td>3</td>\n",
       "      <td>1</td>\n",
       "      <td>0.0</td>\n",
       "      <td>1.004835</td>\n",
       "      <td>1.995777</td>\n",
       "      <td>1</td>\n",
       "      <td>-0.08608</td>\n",
       "      <td>-0.151661</td>\n",
       "      <td>0.489842</td>\n",
       "      <td>0.723222</td>\n",
       "    </tr>\n",
       "    <tr>\n",
       "      <th>177500</th>\n",
       "      <td>-0.378450</td>\n",
       "      <td>-0.138894</td>\n",
       "      <td>1</td>\n",
       "      <td>5</td>\n",
       "      <td>1</td>\n",
       "      <td>0.0</td>\n",
       "      <td>1.087104</td>\n",
       "      <td>2.117463</td>\n",
       "      <td>1</td>\n",
       "      <td>-0.08608</td>\n",
       "      <td>-0.151661</td>\n",
       "      <td>0.489842</td>\n",
       "      <td>0.723222</td>\n",
       "    </tr>\n",
       "    <tr>\n",
       "      <th>208000</th>\n",
       "      <td>-0.746755</td>\n",
       "      <td>0.066893</td>\n",
       "      <td>1</td>\n",
       "      <td>6</td>\n",
       "      <td>1</td>\n",
       "      <td>0.0</td>\n",
       "      <td>1.103263</td>\n",
       "      <td>2.054850</td>\n",
       "      <td>1</td>\n",
       "      <td>-0.08608</td>\n",
       "      <td>-0.151661</td>\n",
       "      <td>0.489842</td>\n",
       "      <td>0.723222</td>\n",
       "    </tr>\n",
       "  </tbody>\n",
       "</table>\n",
       "</div>"
      ],
      "text/plain": [
       "             x_2       x_3  x_1  j  t   xi         c         p  i    v_x_1  \\\n",
       "0       0.000000  0.000000    0  0  1  0.0  0.000000  0.000000  1 -0.08608   \n",
       "81000   0.035364  0.280590    1  2  1  0.0  0.955670  1.982614  1 -0.08608   \n",
       "112000  0.595675 -0.218182    1  3  1  0.0  1.004835  1.995777  1 -0.08608   \n",
       "177500 -0.378450 -0.138894    1  5  1  0.0  1.087104  2.117463  1 -0.08608   \n",
       "208000 -0.746755  0.066893    1  6  1  0.0  1.103263  2.054850  1 -0.08608   \n",
       "\n",
       "           v_x_2     v_x_3       v_p  \n",
       "0      -0.151661  0.489842  0.723222  \n",
       "81000  -0.151661  0.489842  0.723222  \n",
       "112000 -0.151661  0.489842  0.723222  \n",
       "177500 -0.151661  0.489842  0.723222  \n",
       "208000 -0.151661  0.489842  0.723222  "
      ]
     },
     "execution_count": 222,
     "metadata": {},
     "output_type": "execute_result"
    }
   ],
   "source": [
    "df = X.merge(M, how = 'left')\n",
    "df = df.merge(V, how = 'left')\n",
    "df.sort_values(by = ['t', 'i', 'j'], inplace =True)\n",
    "\n",
    "print('shape of df: ', df.shape)\n",
    "df.head()"
   ]
  },
  {
   "cell_type": "markdown",
   "metadata": {},
   "source": [
    "## 1.6 e\n",
    "Draw a vector of preference shocks e whose length is the same as the number of rows of df."
   ]
  },
  {
   "cell_type": "code",
   "execution_count": 182,
   "metadata": {},
   "outputs": [
    {
     "name": "stdout",
     "output_type": "stream",
     "text": [
      "shape of e:  (350000, 1)\n"
     ]
    },
    {
     "data": {
      "text/plain": [
       "array([[-0.71178267],\n",
       "       [ 1.77719766],\n",
       "       [ 2.02218055],\n",
       "       ...,\n",
       "       [ 2.50853542],\n",
       "       [ 2.28801195],\n",
       "       [ 3.49553729]])"
      ]
     },
     "execution_count": 182,
     "metadata": {},
     "output_type": "execute_result"
    }
   ],
   "source": [
    "e = np.random.gumbel(size = (len(df), 1))\n",
    "\n",
    "print('shape of e: ', e.shape)\n",
    "\n",
    "e"
   ]
  },
  {
   "cell_type": "markdown",
   "metadata": {},
   "source": [
    "## 1.7 compute indirect utility (df, beta, sigma, mu, omega)\n",
    "Write a function compute_indirect_utility(df, beta, sigma, mu, omega) that returns a vector whose element is the mean indirect utility of a product for a consumer in a market. The output should have the same length with e."
   ]
  },
  {
   "cell_type": "markdown",
   "metadata": {},
   "source": [
    "The indirect utility of consumer $i$ in market $t$ for product $j$ is: $$u_{itj}=\\beta_{it}'x_j + \\alpha_{it}p_{jt} +\\xi_{jt} + \\epsilon_{ijt}$$\n",
    "\n",
    "$\\beta_{it}$ and $\\alpha_{it}$ are different across consumers, and they are distributed as:\n",
    "- $\\beta_{itk} = \\beta_{0k} + \\sigma_k v_{itk},$ where $v_{itk}$ for $k=1,2,\\cdots, K$ are i.i.d. standard normal random variables.\n",
    "  \n",
    "- $\\alpha_{it} = -exp(\\mu + \\omega v_{it}) = -exp(\\mu + \\omega^2/2) + [-exp(\\mu + \\omega v_{it}) + exp(\\mu + \\omega^2/2)] = \\alpha_0 + \\tilde{\\alpha}_{it},$ where $v_{it}$ are i.i.d. standard normal random variables.\n",
    "  - $[\\beta_{01}, \\cdots, \\beta_{0K}]$ is referred to as beta.\n",
    "  - $[\\sigma_{1}, \\cdots, \\sigma_{K}]$ is referred to as sigma."
   ]
  },
  {
   "cell_type": "code",
   "execution_count": 120,
   "metadata": {},
   "outputs": [],
   "source": [
    "# compute indirect utility (df, beta, sigma, mu, omega)\n",
    "def compute_indirect_utility(df, beta, sigma, mu, omega):\n",
    "    u = (beta[0]+sigma[0]*df.v_x_1)*df.x_1 + (beta[1]+sigma[1]*df.v_x_2)*df.x_2 + (beta[2]+sigma[2]*df.v_x_3)*df.x_3 + \\\n",
    "    np.exp(mu + omega*df.v_p)*df.p + \\\n",
    "    df.xi\n",
    "    return u"
   ]
  },
  {
   "cell_type": "code",
   "execution_count": 121,
   "metadata": {},
   "outputs": [
    {
     "name": "stdout",
     "output_type": "stream",
     "text": [
      "shape of u:  (350000,)\n"
     ]
    },
    {
     "data": {
      "text/plain": [
       "35500     5.694845\n",
       "67000     5.351453\n",
       "130500    5.231400\n",
       "163000    6.032167\n",
       "195000    5.935393\n",
       "            ...   \n",
       "130499    7.211355\n",
       "194999    7.773737\n",
       "256999    7.336684\n",
       "284499    7.827426\n",
       "349999    7.004199\n",
       "Length: 350000, dtype: float64"
      ]
     },
     "execution_count": 121,
     "metadata": {},
     "output_type": "execute_result"
    }
   ],
   "source": [
    "u = compute_indirect_utility(df, beta, sigma, mu, omega)\n",
    "\n",
    "print('shape of u: ', u.shape)\n",
    "\n",
    "u"
   ]
  },
  {
   "cell_type": "markdown",
   "metadata": {},
   "source": [
    "## 1.8 compute_choice(df, e, beta, sigma, mu, omega)\n",
    "Write a function compute_choice(df, e, beta, sigma, mu, omega). Call compute_indirect_utility to obtain the vector of mean indirect utilities u, next compute the choice vector q based on the vector of mean indirect utilities and e, and finally return the data frame to which u and q are added as columns."
   ]
  },
  {
   "cell_type": "markdown",
   "metadata": {},
   "source": [
    "Given a choice set in the market,$J_{t}\\cup \\{0\\}$, a consumer chooses the alternative that maximizes her utility:\n",
    "$$q_{ijt}=1\\{u_{ijt} = \\underset{k\\in J_{t}\\cup \\{0\\}}{max} u_{ikt}\\}.$$\n",
    "\n",
    "- The choice probability of product $j$ for consumer $i$ in market $t$ is:\n",
    "$\\sigma_{jt}(p_t, x_t, \\xi_t)=\\mathbb{P}\\{u_{ijt} = \\underset{k\\in J_{t}\\cup \\{0\\}}{max} u_{ikt}\\}$"
   ]
  },
  {
   "cell_type": "code",
   "execution_count": 183,
   "metadata": {},
   "outputs": [],
   "source": [
    "def compute_choice(df, e, beta, sigma, mu, omega):\n",
    "    df['u'] = compute_indirect_utility(df, beta, sigma, mu, omega)\n",
    "    df['e'] = e\n",
    "    df['u_plus_e'] = df['u'] + df['e']\n",
    "    temp = df.groupby(['i', 't']).agg({'u_plus_e':'max'}).reset_index()\n",
    "    temp.columns = ['i', 't', 'max_u_plus_e']\n",
    "    df = df.merge(temp, how = 'left')\n",
    "    df['q'] = (df['u_plus_e'] == df['max_u_plus_e']).astype('int')\n",
    "    df.drop(columns = ['u_plus_e', 'e', 'max_u_plus_e'], inplace = True)\n",
    "    return df"
   ]
  },
  {
   "cell_type": "code",
   "execution_count": 184,
   "metadata": {},
   "outputs": [
    {
     "name": "stdout",
     "output_type": "stream",
     "text": [
      "shape of df:  (350000, 15)\n"
     ]
    },
    {
     "data": {
      "text/html": [
       "<div>\n",
       "<style scoped>\n",
       "    .dataframe tbody tr th:only-of-type {\n",
       "        vertical-align: middle;\n",
       "    }\n",
       "\n",
       "    .dataframe tbody tr th {\n",
       "        vertical-align: top;\n",
       "    }\n",
       "\n",
       "    .dataframe thead th {\n",
       "        text-align: right;\n",
       "    }\n",
       "</style>\n",
       "<table border=\"1\" class=\"dataframe\">\n",
       "  <thead>\n",
       "    <tr style=\"text-align: right;\">\n",
       "      <th></th>\n",
       "      <th>x_2</th>\n",
       "      <th>x_3</th>\n",
       "      <th>x_1</th>\n",
       "      <th>j</th>\n",
       "      <th>t</th>\n",
       "      <th>xi</th>\n",
       "      <th>c</th>\n",
       "      <th>p</th>\n",
       "      <th>i</th>\n",
       "      <th>v_x_1</th>\n",
       "      <th>v_x_2</th>\n",
       "      <th>v_x_3</th>\n",
       "      <th>v_p</th>\n",
       "      <th>u</th>\n",
       "      <th>q</th>\n",
       "    </tr>\n",
       "  </thead>\n",
       "  <tbody>\n",
       "    <tr>\n",
       "      <th>count</th>\n",
       "      <td>350000.000000</td>\n",
       "      <td>350000.000000</td>\n",
       "      <td>350000.000000</td>\n",
       "      <td>350000.000000</td>\n",
       "      <td>350000.000000</td>\n",
       "      <td>350000.0</td>\n",
       "      <td>350000.000000</td>\n",
       "      <td>350000.000000</td>\n",
       "      <td>350000.000000</td>\n",
       "      <td>350000.000000</td>\n",
       "      <td>350000.000000</td>\n",
       "      <td>350000.000000</td>\n",
       "      <td>350000.000000</td>\n",
       "      <td>350000.000000</td>\n",
       "      <td>350000.000000</td>\n",
       "    </tr>\n",
       "    <tr>\n",
       "      <th>mean</th>\n",
       "      <td>-0.002871</td>\n",
       "      <td>0.088543</td>\n",
       "      <td>0.857143</td>\n",
       "      <td>4.578571</td>\n",
       "      <td>50.500000</td>\n",
       "      <td>0.0</td>\n",
       "      <td>0.860168</td>\n",
       "      <td>1.716846</td>\n",
       "      <td>250.500000</td>\n",
       "      <td>0.007630</td>\n",
       "      <td>-0.000486</td>\n",
       "      <td>0.004958</td>\n",
       "      <td>0.002752</td>\n",
       "      <td>8.065193</td>\n",
       "      <td>0.142857</td>\n",
       "    </tr>\n",
       "    <tr>\n",
       "      <th>std</th>\n",
       "      <td>0.399159</td>\n",
       "      <td>0.313574</td>\n",
       "      <td>0.349928</td>\n",
       "      <td>3.233463</td>\n",
       "      <td>28.866111</td>\n",
       "      <td>0.0</td>\n",
       "      <td>0.354315</td>\n",
       "      <td>0.703978</td>\n",
       "      <td>144.337485</td>\n",
       "      <td>1.001887</td>\n",
       "      <td>1.000476</td>\n",
       "      <td>0.996175</td>\n",
       "      <td>0.999915</td>\n",
       "      <td>7.693710</td>\n",
       "      <td>0.349928</td>\n",
       "    </tr>\n",
       "    <tr>\n",
       "      <th>min</th>\n",
       "      <td>-0.746755</td>\n",
       "      <td>-0.291138</td>\n",
       "      <td>0.000000</td>\n",
       "      <td>0.000000</td>\n",
       "      <td>1.000000</td>\n",
       "      <td>0.0</td>\n",
       "      <td>0.000000</td>\n",
       "      <td>0.000000</td>\n",
       "      <td>1.000000</td>\n",
       "      <td>-4.176301</td>\n",
       "      <td>-3.912019</td>\n",
       "      <td>-4.209944</td>\n",
       "      <td>-4.097605</td>\n",
       "      <td>-2.412469</td>\n",
       "      <td>0.000000</td>\n",
       "    </tr>\n",
       "    <tr>\n",
       "      <th>25%</th>\n",
       "      <td>-0.378450</td>\n",
       "      <td>-0.211996</td>\n",
       "      <td>1.000000</td>\n",
       "      <td>2.000000</td>\n",
       "      <td>25.750000</td>\n",
       "      <td>0.0</td>\n",
       "      <td>0.944178</td>\n",
       "      <td>1.918152</td>\n",
       "      <td>125.750000</td>\n",
       "      <td>-0.670229</td>\n",
       "      <td>-0.670948</td>\n",
       "      <td>-0.662437</td>\n",
       "      <td>-0.668071</td>\n",
       "      <td>4.284932</td>\n",
       "      <td>0.000000</td>\n",
       "    </tr>\n",
       "    <tr>\n",
       "      <th>50%</th>\n",
       "      <td>0.000000</td>\n",
       "      <td>0.066893</td>\n",
       "      <td>1.000000</td>\n",
       "      <td>4.000000</td>\n",
       "      <td>50.500000</td>\n",
       "      <td>0.0</td>\n",
       "      <td>0.990393</td>\n",
       "      <td>1.985272</td>\n",
       "      <td>250.500000</td>\n",
       "      <td>0.013758</td>\n",
       "      <td>0.000120</td>\n",
       "      <td>0.006999</td>\n",
       "      <td>-0.000006</td>\n",
       "      <td>6.895875</td>\n",
       "      <td>0.000000</td>\n",
       "    </tr>\n",
       "    <tr>\n",
       "      <th>75%</th>\n",
       "      <td>0.422176</td>\n",
       "      <td>0.242568</td>\n",
       "      <td>1.000000</td>\n",
       "      <td>7.000000</td>\n",
       "      <td>75.250000</td>\n",
       "      <td>0.0</td>\n",
       "      <td>1.031363</td>\n",
       "      <td>2.043085</td>\n",
       "      <td>375.250000</td>\n",
       "      <td>0.681411</td>\n",
       "      <td>0.675261</td>\n",
       "      <td>0.680358</td>\n",
       "      <td>0.677225</td>\n",
       "      <td>10.081387</td>\n",
       "      <td>0.000000</td>\n",
       "    </tr>\n",
       "    <tr>\n",
       "      <th>max</th>\n",
       "      <td>0.595675</td>\n",
       "      <td>0.908770</td>\n",
       "      <td>1.000000</td>\n",
       "      <td>10.000000</td>\n",
       "      <td>100.000000</td>\n",
       "      <td>0.0</td>\n",
       "      <td>1.215445</td>\n",
       "      <td>2.228248</td>\n",
       "      <td>500.000000</td>\n",
       "      <td>4.281156</td>\n",
       "      <td>3.809946</td>\n",
       "      <td>3.902888</td>\n",
       "      <td>4.375160</td>\n",
       "      <td>280.205530</td>\n",
       "      <td>1.000000</td>\n",
       "    </tr>\n",
       "  </tbody>\n",
       "</table>\n",
       "</div>"
      ],
      "text/plain": [
       "                 x_2            x_3            x_1              j  \\\n",
       "count  350000.000000  350000.000000  350000.000000  350000.000000   \n",
       "mean       -0.002871       0.088543       0.857143       4.578571   \n",
       "std         0.399159       0.313574       0.349928       3.233463   \n",
       "min        -0.746755      -0.291138       0.000000       0.000000   \n",
       "25%        -0.378450      -0.211996       1.000000       2.000000   \n",
       "50%         0.000000       0.066893       1.000000       4.000000   \n",
       "75%         0.422176       0.242568       1.000000       7.000000   \n",
       "max         0.595675       0.908770       1.000000      10.000000   \n",
       "\n",
       "                   t        xi              c              p              i  \\\n",
       "count  350000.000000  350000.0  350000.000000  350000.000000  350000.000000   \n",
       "mean       50.500000       0.0       0.860168       1.716846     250.500000   \n",
       "std        28.866111       0.0       0.354315       0.703978     144.337485   \n",
       "min         1.000000       0.0       0.000000       0.000000       1.000000   \n",
       "25%        25.750000       0.0       0.944178       1.918152     125.750000   \n",
       "50%        50.500000       0.0       0.990393       1.985272     250.500000   \n",
       "75%        75.250000       0.0       1.031363       2.043085     375.250000   \n",
       "max       100.000000       0.0       1.215445       2.228248     500.000000   \n",
       "\n",
       "               v_x_1          v_x_2          v_x_3            v_p  \\\n",
       "count  350000.000000  350000.000000  350000.000000  350000.000000   \n",
       "mean        0.007630      -0.000486       0.004958       0.002752   \n",
       "std         1.001887       1.000476       0.996175       0.999915   \n",
       "min        -4.176301      -3.912019      -4.209944      -4.097605   \n",
       "25%        -0.670229      -0.670948      -0.662437      -0.668071   \n",
       "50%         0.013758       0.000120       0.006999      -0.000006   \n",
       "75%         0.681411       0.675261       0.680358       0.677225   \n",
       "max         4.281156       3.809946       3.902888       4.375160   \n",
       "\n",
       "                   u              q  \n",
       "count  350000.000000  350000.000000  \n",
       "mean        8.065193       0.142857  \n",
       "std         7.693710       0.349928  \n",
       "min        -2.412469       0.000000  \n",
       "25%         4.284932       0.000000  \n",
       "50%         6.895875       0.000000  \n",
       "75%        10.081387       0.000000  \n",
       "max       280.205530       1.000000  "
      ]
     },
     "execution_count": 184,
     "metadata": {},
     "output_type": "execute_result"
    }
   ],
   "source": [
    "df = compute_choice(df, e, beta, sigma, mu, omega)\n",
    "\n",
    "print('shape of df: ', df.shape)\n",
    "df.describe()"
   ]
  },
  {
   "cell_type": "markdown",
   "metadata": {},
   "source": [
    "## 1.9 compute_share(df, e, beta, sigma, mu, omega)\n",
    "Write a function compute_share(df, e, beta, sigma, mu, omega). First call compute_choice to obtain a data frame with u and q, second compute the share of each product at each market s and the log difference in the share from the outside option, $ln(s_{jt}/s_{0t})$, denoted by y, and finally return the data frame that is summarized at the product-market level, dropped consumer-level variables, and added s and y.\n",
    "\n",
    "The share: $$s_{jt}=\\frac{1}{N}\\sum_{i=1}^N q_{ijt}$$"
   ]
  },
  {
   "cell_type": "code",
   "execution_count": 231,
   "metadata": {},
   "outputs": [],
   "source": [
    "def compute_share(df, e, beta, sigma, mu, omega):\n",
    "    df = compute_choice(df, e, beta, sigma, mu, omega)\n",
    "    df['e'] = e\n",
    "    temp1 = df.groupby(['j', 't', 'x_2', 'x_3', 'x_1', 'xi', 'c', 'p']).agg({'q': 'mean'}).reset_index()\n",
    "    temp1.columns = ['j', 't', 'x_2', 'x_3', 'x_1', 'xi', 'c', 'p', 's']\n",
    "\n",
    "    temp2 = temp1.loc[temp1.j == 0, ['t','s']]\n",
    "    temp2.columns = ['t', 's_0']\n",
    "    temp3 = temp2[temp2['s_0'] <= 0][['t']]\n",
    "    temp3 = temp3.merge(df[df.j == 0], how = 'left')\n",
    "    temp3 = temp3.groupby(['t']).agg({'e': 'mean'}).reset_index()\n",
    "    temp3['ln_s_0'] = -temp3['e']\n",
    "    temp3['s_0'] = np.exp(temp3['ln_s_0'])\n",
    "    temp2 = temp2[temp2['s_0'] > 0]\n",
    "    temp2['ln_s_0'] = np.log(temp2['s_0'])\n",
    "    temp2 = pd.concat([temp2[['t', 's_0', 'ln_s_0']], temp3[['t', 's_0', 'ln_s_0']]])\n",
    "    \n",
    "    temp1 = temp1.merge(temp2, how = 'left')\n",
    "    temp1['s'] = temp1.apply(lambda x: x.s_0 if (x.j == 0 and x.s <= 0) else x.s, axis = 1)\n",
    "    temp1['y'] = np.log(temp1['s']) - temp1['ln_s_0']\n",
    "    temp1.loc[temp1.j == 0, 'y'] = 0\n",
    "    return temp1[['j', 't', 'x_2', 'x_3', 'x_1', 'xi', 'c', 'p', 's', 'y']]"
   ]
  },
  {
   "cell_type": "code",
   "execution_count": 232,
   "metadata": {},
   "outputs": [
    {
     "name": "stdout",
     "output_type": "stream",
     "text": [
      "shape of df:  (700, 10)\n"
     ]
    },
    {
     "data": {
      "text/html": [
       "<div>\n",
       "<style scoped>\n",
       "    .dataframe tbody tr th:only-of-type {\n",
       "        vertical-align: middle;\n",
       "    }\n",
       "\n",
       "    .dataframe tbody tr th {\n",
       "        vertical-align: top;\n",
       "    }\n",
       "\n",
       "    .dataframe thead th {\n",
       "        text-align: right;\n",
       "    }\n",
       "</style>\n",
       "<table border=\"1\" class=\"dataframe\">\n",
       "  <thead>\n",
       "    <tr style=\"text-align: right;\">\n",
       "      <th></th>\n",
       "      <th>j</th>\n",
       "      <th>t</th>\n",
       "      <th>x_2</th>\n",
       "      <th>x_3</th>\n",
       "      <th>x_1</th>\n",
       "      <th>xi</th>\n",
       "      <th>c</th>\n",
       "      <th>p</th>\n",
       "      <th>s</th>\n",
       "      <th>y</th>\n",
       "    </tr>\n",
       "  </thead>\n",
       "  <tbody>\n",
       "    <tr>\n",
       "      <th>0</th>\n",
       "      <td>0</td>\n",
       "      <td>1</td>\n",
       "      <td>0.0</td>\n",
       "      <td>0.0</td>\n",
       "      <td>0</td>\n",
       "      <td>0.0</td>\n",
       "      <td>0.0</td>\n",
       "      <td>0.0</td>\n",
       "      <td>0.004000</td>\n",
       "      <td>0.0</td>\n",
       "    </tr>\n",
       "    <tr>\n",
       "      <th>1</th>\n",
       "      <td>0</td>\n",
       "      <td>2</td>\n",
       "      <td>0.0</td>\n",
       "      <td>0.0</td>\n",
       "      <td>0</td>\n",
       "      <td>0.0</td>\n",
       "      <td>0.0</td>\n",
       "      <td>0.0</td>\n",
       "      <td>0.002000</td>\n",
       "      <td>0.0</td>\n",
       "    </tr>\n",
       "    <tr>\n",
       "      <th>2</th>\n",
       "      <td>0</td>\n",
       "      <td>3</td>\n",
       "      <td>0.0</td>\n",
       "      <td>0.0</td>\n",
       "      <td>0</td>\n",
       "      <td>0.0</td>\n",
       "      <td>0.0</td>\n",
       "      <td>0.0</td>\n",
       "      <td>0.002000</td>\n",
       "      <td>0.0</td>\n",
       "    </tr>\n",
       "    <tr>\n",
       "      <th>3</th>\n",
       "      <td>0</td>\n",
       "      <td>4</td>\n",
       "      <td>0.0</td>\n",
       "      <td>0.0</td>\n",
       "      <td>0</td>\n",
       "      <td>0.0</td>\n",
       "      <td>0.0</td>\n",
       "      <td>0.0</td>\n",
       "      <td>0.553628</td>\n",
       "      <td>0.0</td>\n",
       "    </tr>\n",
       "    <tr>\n",
       "      <th>4</th>\n",
       "      <td>0</td>\n",
       "      <td>5</td>\n",
       "      <td>0.0</td>\n",
       "      <td>0.0</td>\n",
       "      <td>0</td>\n",
       "      <td>0.0</td>\n",
       "      <td>0.0</td>\n",
       "      <td>0.0</td>\n",
       "      <td>0.004000</td>\n",
       "      <td>0.0</td>\n",
       "    </tr>\n",
       "  </tbody>\n",
       "</table>\n",
       "</div>"
      ],
      "text/plain": [
       "   j  t  x_2  x_3  x_1   xi    c    p         s    y\n",
       "0  0  1  0.0  0.0    0  0.0  0.0  0.0  0.004000  0.0\n",
       "1  0  2  0.0  0.0    0  0.0  0.0  0.0  0.002000  0.0\n",
       "2  0  3  0.0  0.0    0  0.0  0.0  0.0  0.002000  0.0\n",
       "3  0  4  0.0  0.0    0  0.0  0.0  0.0  0.553628  0.0\n",
       "4  0  5  0.0  0.0    0  0.0  0.0  0.0  0.004000  0.0"
      ]
     },
     "execution_count": 232,
     "metadata": {},
     "output_type": "execute_result"
    }
   ],
   "source": [
    "df = compute_share(df, e, beta, sigma, mu, omega)\n",
    "\n",
    "print('shape of df: ', df.shape)\n",
    "df.head()"
   ]
  },
  {
   "cell_type": "markdown",
   "metadata": {},
   "source": [
    "# 2  Estimate the parameters"
   ]
  },
  {
   "cell_type": "markdown",
   "metadata": {},
   "source": [
    "## 2.1 Assume there is no consumer-level heterogeneity\n",
    "The probability that consumer $i$ will choose product $j$ \n",
    "$$p_{ijt}(v_i)=\\frac{exp(\\delta_{jt}+v_{ijt})}{1+\\sum_{k=1}^J exp(\\delta_{kt}+v_{ikt})}.$$\n",
    "\n",
    "The market shares is, e.g., \n",
    "      $$s_{jt}=\\frac{exp(\\beta'x_{jt} + \\alpha p_{jt} +\\xi_{jt})}{1+\\sum_{k=1}^J exp(\\beta'x_k + \\alpha p_{kt} +\\xi_{kt})}$$ since there is no consumer-level heterogeneity\n",
    "\n",
    "Transform the above expression.\n",
    "- $log(s_{jt})=(\\beta'x_{jt} + \\alpha p_{jt} +\\xi_{jt}) - log(1+\\sum_{k=1}^J exp(\\beta'x_{kt} + \\alpha p_{kt} +\\xi_{kt}))$\n",
    "- $log(s_{jt})=(\\beta'x_{jt} + \\alpha p_{jt} +\\xi_{jt}) + e_t$ where $e_t = - log(1+\\sum_{k=1}^J exp(\\beta'x_{kt} + \\alpha p_{kt} +\\xi_{kt}))$\n",
    "\n",
    "If we normalize the utility of the outside good to zero, this implies that: \n",
    "- $s_{0t}=\\frac{exp(0)}{1+\\sum_{k=1}^J exp(\\beta'x_k + \\alpha p_{kt} +\\xi_{kt})} = \\frac{1}{exp(-e_t)},$\n",
    "- $\\Longrightarrow log(s_{0t}) = 0 - e_t$\n",
    "\n",
    "\n",
    "Estimate the parameters assuming there is no consumer-level heterogeneity, i.e., by assuming:\n",
    "$$ln(\\frac{s_{jt}}{s_{0t}}) = \\beta' x_{jt} + \\alpha p_{jt}$$"
   ]
  },
  {
   "cell_type": "code",
   "execution_count": 338,
   "metadata": {},
   "outputs": [],
   "source": [
    "df = X.merge(M, how = 'left')\n",
    "df = df.merge(V, how = 'left')\n",
    "\n",
    "df_share = compute_choice(df, e, beta, sigma, mu, omega)\n",
    "df_share = compute_share(df_share, e, beta, sigma, mu, omega)"
   ]
  },
  {
   "cell_type": "code",
   "execution_count": 339,
   "metadata": {},
   "outputs": [
    {
     "name": "stdout",
     "output_type": "stream",
     "text": [
      "                        Results: Ordinary least squares\n",
      "===============================================================================\n",
      "Model:                  OLS              Adj. R-squared (uncentered): 0.338    \n",
      "Dependent Variable:     y                AIC:                         3257.3087\n",
      "Date:                   2021-08-27 18:10 BIC:                         3275.5130\n",
      "No. Observations:       700              Log-Likelihood:              -1624.7  \n",
      "Df Model:               4                F-statistic:                 90.44    \n",
      "Df Residuals:           696              Prob (F-statistic):          6.64e-62 \n",
      "R-squared (uncentered): 0.342            Scale:                       6.1088   \n",
      "------------------------------------------------------------------------------------\n",
      "             Coef.       Std.Err.         t         P>|t|        [0.025       0.975]\n",
      "------------------------------------------------------------------------------------\n",
      "x_1         -4.1785        2.8514      -1.4654      0.1433      -9.7768       1.4198\n",
      "x_2         -0.3657        0.2526      -1.4475      0.1482      -0.8616       0.1303\n",
      "x_3         -0.7411        0.3237      -2.2891      0.0224      -1.3767      -0.1055\n",
      "p            3.0689        1.4234       2.1560      0.0314       0.2742       5.8636\n",
      "-------------------------------------------------------------------------------\n",
      "Omnibus:                  3935.546           Durbin-Watson:              1.942 \n",
      "Prob(Omnibus):            0.000              Jarque-Bera (JB):           92.358\n",
      "Skew:                     -0.352             Prob(JB):                   0.000 \n",
      "Kurtosis:                 1.366              Condition No.:              71    \n",
      "===============================================================================\n",
      "\n"
     ]
    }
   ],
   "source": [
    "ols_res = sm.OLS.from_formula('y ~ -1 + x_1 + x_2 + x_3 + p', data = df_share).fit()\n",
    "print(ols_res.summary2(float_format=\"%.6f\"))"
   ]
  },
  {
   "cell_type": "markdown",
   "metadata": {},
   "source": [
    "## 2.2"
   ]
  },
  {
   "cell_type": "code",
   "execution_count": 340,
   "metadata": {},
   "outputs": [
    {
     "name": "stdout",
     "output_type": "stream",
     "text": [
      "shape of V_mcmc:  (100000, 6)\n"
     ]
    },
    {
     "data": {
      "text/html": [
       "<div>\n",
       "<style scoped>\n",
       "    .dataframe tbody tr th:only-of-type {\n",
       "        vertical-align: middle;\n",
       "    }\n",
       "\n",
       "    .dataframe tbody tr th {\n",
       "        vertical-align: top;\n",
       "    }\n",
       "\n",
       "    .dataframe thead th {\n",
       "        text-align: right;\n",
       "    }\n",
       "</style>\n",
       "<table border=\"1\" class=\"dataframe\">\n",
       "  <thead>\n",
       "    <tr style=\"text-align: right;\">\n",
       "      <th></th>\n",
       "      <th>i</th>\n",
       "      <th>t</th>\n",
       "      <th>v_x_1</th>\n",
       "      <th>v_x_2</th>\n",
       "      <th>v_x_3</th>\n",
       "      <th>v_p</th>\n",
       "    </tr>\n",
       "  </thead>\n",
       "  <tbody>\n",
       "    <tr>\n",
       "      <th>0</th>\n",
       "      <td>1</td>\n",
       "      <td>1</td>\n",
       "      <td>-0.964850</td>\n",
       "      <td>2.106239</td>\n",
       "      <td>-1.324508</td>\n",
       "      <td>0.779572</td>\n",
       "    </tr>\n",
       "    <tr>\n",
       "      <th>1</th>\n",
       "      <td>1</td>\n",
       "      <td>2</td>\n",
       "      <td>-0.242827</td>\n",
       "      <td>0.998295</td>\n",
       "      <td>1.350968</td>\n",
       "      <td>1.747766</td>\n",
       "    </tr>\n",
       "    <tr>\n",
       "      <th>2</th>\n",
       "      <td>1</td>\n",
       "      <td>3</td>\n",
       "      <td>1.733645</td>\n",
       "      <td>-0.570624</td>\n",
       "      <td>0.824429</td>\n",
       "      <td>-0.493763</td>\n",
       "    </tr>\n",
       "    <tr>\n",
       "      <th>3</th>\n",
       "      <td>1</td>\n",
       "      <td>4</td>\n",
       "      <td>0.395297</td>\n",
       "      <td>-1.359708</td>\n",
       "      <td>0.652422</td>\n",
       "      <td>2.277985</td>\n",
       "    </tr>\n",
       "    <tr>\n",
       "      <th>4</th>\n",
       "      <td>1</td>\n",
       "      <td>5</td>\n",
       "      <td>0.930536</td>\n",
       "      <td>0.433377</td>\n",
       "      <td>-0.296047</td>\n",
       "      <td>0.442123</td>\n",
       "    </tr>\n",
       "  </tbody>\n",
       "</table>\n",
       "</div>"
      ],
      "text/plain": [
       "   i  t     v_x_1     v_x_2     v_x_3       v_p\n",
       "0  1  1 -0.964850  2.106239 -1.324508  0.779572\n",
       "1  1  2 -0.242827  0.998295  1.350968  1.747766\n",
       "2  1  3  1.733645 -0.570624  0.824429 -0.493763\n",
       "3  1  4  0.395297 -1.359708  0.652422  2.277985\n",
       "4  1  5  0.930536  0.433377 -0.296047  0.442123"
      ]
     },
     "execution_count": 340,
     "metadata": {},
     "output_type": "execute_result"
    }
   ],
   "source": [
    "# The number of simulations is L\n",
    "\n",
    "V_mcmc = pd.DataFrame([(i+1,1) for i in range(L)], columns = ['i', 'temp'])\\\n",
    ".merge(pd.DataFrame([(t+1,1) for t in range(T)], columns = ['t', 'temp']), how = 'outer')\n",
    "V_mcmc.drop(columns = 'temp', inplace =True)\n",
    "for col in ['v_x_1', 'v_x_2', 'v_x_3', 'v_p']:\n",
    "    V_mcmc[col] = np.random.normal(size = (L*T, 1))\n",
    "\n",
    "print('shape of V_mcmc: ', V_mcmc.shape)\n",
    "V_mcmc.head()"
   ]
  },
  {
   "cell_type": "code",
   "execution_count": 341,
   "metadata": {},
   "outputs": [
    {
     "name": "stdout",
     "output_type": "stream",
     "text": [
      "shape of df_mcmc:  (700000, 13)\n"
     ]
    },
    {
     "data": {
      "text/html": [
       "<div>\n",
       "<style scoped>\n",
       "    .dataframe tbody tr th:only-of-type {\n",
       "        vertical-align: middle;\n",
       "    }\n",
       "\n",
       "    .dataframe tbody tr th {\n",
       "        vertical-align: top;\n",
       "    }\n",
       "\n",
       "    .dataframe thead th {\n",
       "        text-align: right;\n",
       "    }\n",
       "</style>\n",
       "<table border=\"1\" class=\"dataframe\">\n",
       "  <thead>\n",
       "    <tr style=\"text-align: right;\">\n",
       "      <th></th>\n",
       "      <th>x_2</th>\n",
       "      <th>x_3</th>\n",
       "      <th>x_1</th>\n",
       "      <th>j</th>\n",
       "      <th>t</th>\n",
       "      <th>xi</th>\n",
       "      <th>c</th>\n",
       "      <th>p</th>\n",
       "      <th>i</th>\n",
       "      <th>v_x_1</th>\n",
       "      <th>v_x_2</th>\n",
       "      <th>v_x_3</th>\n",
       "      <th>v_p</th>\n",
       "    </tr>\n",
       "  </thead>\n",
       "  <tbody>\n",
       "    <tr>\n",
       "      <th>0</th>\n",
       "      <td>0.0</td>\n",
       "      <td>0.0</td>\n",
       "      <td>0</td>\n",
       "      <td>0</td>\n",
       "      <td>1</td>\n",
       "      <td>0.0</td>\n",
       "      <td>0.0</td>\n",
       "      <td>0.0</td>\n",
       "      <td>1</td>\n",
       "      <td>-0.964850</td>\n",
       "      <td>2.106239</td>\n",
       "      <td>-1.324508</td>\n",
       "      <td>0.779572</td>\n",
       "    </tr>\n",
       "    <tr>\n",
       "      <th>1</th>\n",
       "      <td>0.0</td>\n",
       "      <td>0.0</td>\n",
       "      <td>0</td>\n",
       "      <td>0</td>\n",
       "      <td>1</td>\n",
       "      <td>0.0</td>\n",
       "      <td>0.0</td>\n",
       "      <td>0.0</td>\n",
       "      <td>2</td>\n",
       "      <td>0.039252</td>\n",
       "      <td>-0.698739</td>\n",
       "      <td>-0.005503</td>\n",
       "      <td>-0.853507</td>\n",
       "    </tr>\n",
       "    <tr>\n",
       "      <th>2</th>\n",
       "      <td>0.0</td>\n",
       "      <td>0.0</td>\n",
       "      <td>0</td>\n",
       "      <td>0</td>\n",
       "      <td>1</td>\n",
       "      <td>0.0</td>\n",
       "      <td>0.0</td>\n",
       "      <td>0.0</td>\n",
       "      <td>3</td>\n",
       "      <td>0.618297</td>\n",
       "      <td>-1.136635</td>\n",
       "      <td>-1.655252</td>\n",
       "      <td>-0.391188</td>\n",
       "    </tr>\n",
       "    <tr>\n",
       "      <th>3</th>\n",
       "      <td>0.0</td>\n",
       "      <td>0.0</td>\n",
       "      <td>0</td>\n",
       "      <td>0</td>\n",
       "      <td>1</td>\n",
       "      <td>0.0</td>\n",
       "      <td>0.0</td>\n",
       "      <td>0.0</td>\n",
       "      <td>4</td>\n",
       "      <td>0.266054</td>\n",
       "      <td>-1.033895</td>\n",
       "      <td>-0.448791</td>\n",
       "      <td>1.519259</td>\n",
       "    </tr>\n",
       "    <tr>\n",
       "      <th>4</th>\n",
       "      <td>0.0</td>\n",
       "      <td>0.0</td>\n",
       "      <td>0</td>\n",
       "      <td>0</td>\n",
       "      <td>1</td>\n",
       "      <td>0.0</td>\n",
       "      <td>0.0</td>\n",
       "      <td>0.0</td>\n",
       "      <td>5</td>\n",
       "      <td>1.061019</td>\n",
       "      <td>0.492390</td>\n",
       "      <td>0.075651</td>\n",
       "      <td>0.714045</td>\n",
       "    </tr>\n",
       "  </tbody>\n",
       "</table>\n",
       "</div>"
      ],
      "text/plain": [
       "   x_2  x_3  x_1  j  t   xi    c    p  i     v_x_1     v_x_2     v_x_3  \\\n",
       "0  0.0  0.0    0  0  1  0.0  0.0  0.0  1 -0.964850  2.106239 -1.324508   \n",
       "1  0.0  0.0    0  0  1  0.0  0.0  0.0  2  0.039252 -0.698739 -0.005503   \n",
       "2  0.0  0.0    0  0  1  0.0  0.0  0.0  3  0.618297 -1.136635 -1.655252   \n",
       "3  0.0  0.0    0  0  1  0.0  0.0  0.0  4  0.266054 -1.033895 -0.448791   \n",
       "4  0.0  0.0    0  0  1  0.0  0.0  0.0  5  1.061019  0.492390  0.075651   \n",
       "\n",
       "        v_p  \n",
       "0  0.779572  \n",
       "1 -0.853507  \n",
       "2 -0.391188  \n",
       "3  1.519259  \n",
       "4  0.714045  "
      ]
     },
     "execution_count": 341,
     "metadata": {},
     "output_type": "execute_result"
    }
   ],
   "source": [
    "df_mcmc = X.merge(M, how = 'left')\n",
    "df_mcmc = df_mcmc.merge(V_mcmc, how = 'left')\n",
    "\n",
    "print('shape of df_mcmc: ', df_mcmc.shape)\n",
    "df_mcmc.head()"
   ]
  },
  {
   "cell_type": "code",
   "execution_count": 344,
   "metadata": {},
   "outputs": [
    {
     "name": "stdout",
     "output_type": "stream",
     "text": [
      "shape of e_mcmc:  (700000, 1)\n"
     ]
    },
    {
     "data": {
      "text/plain": [
       "array([[ 1.31752324],\n",
       "       [-0.24136139],\n",
       "       [-0.65230721],\n",
       "       ...,\n",
       "       [-0.27556836],\n",
       "       [ 0.85195082],\n",
       "       [-1.2651798 ]])"
      ]
     },
     "execution_count": 344,
     "metadata": {},
     "output_type": "execute_result"
    }
   ],
   "source": [
    "e_mcmc = np.random.gumbel(size = (len(df_mcmc), 1))\n",
    "\n",
    "print('shape of e_mcmc: ', e_mcmc.shape)\n",
    "e_mcmc"
   ]
  },
  {
   "cell_type": "markdown",
   "metadata": {},
   "source": [
    "## 2.3"
   ]
  },
  {
   "cell_type": "code",
   "execution_count": 345,
   "metadata": {},
   "outputs": [
    {
     "name": "stdout",
     "output_type": "stream",
     "text": [
      "shape of df_share_mcmc:  (700, 10)\n"
     ]
    },
    {
     "data": {
      "text/html": [
       "<div>\n",
       "<style scoped>\n",
       "    .dataframe tbody tr th:only-of-type {\n",
       "        vertical-align: middle;\n",
       "    }\n",
       "\n",
       "    .dataframe tbody tr th {\n",
       "        vertical-align: top;\n",
       "    }\n",
       "\n",
       "    .dataframe thead th {\n",
       "        text-align: right;\n",
       "    }\n",
       "</style>\n",
       "<table border=\"1\" class=\"dataframe\">\n",
       "  <thead>\n",
       "    <tr style=\"text-align: right;\">\n",
       "      <th></th>\n",
       "      <th>j</th>\n",
       "      <th>t</th>\n",
       "      <th>x_2</th>\n",
       "      <th>x_3</th>\n",
       "      <th>x_1</th>\n",
       "      <th>xi</th>\n",
       "      <th>c</th>\n",
       "      <th>p</th>\n",
       "      <th>s</th>\n",
       "      <th>y</th>\n",
       "    </tr>\n",
       "  </thead>\n",
       "  <tbody>\n",
       "    <tr>\n",
       "      <th>0</th>\n",
       "      <td>0</td>\n",
       "      <td>1</td>\n",
       "      <td>0.0</td>\n",
       "      <td>0.0</td>\n",
       "      <td>0</td>\n",
       "      <td>0.0</td>\n",
       "      <td>0.0</td>\n",
       "      <td>0.0</td>\n",
       "      <td>0.569749</td>\n",
       "      <td>0.0</td>\n",
       "    </tr>\n",
       "    <tr>\n",
       "      <th>1</th>\n",
       "      <td>0</td>\n",
       "      <td>2</td>\n",
       "      <td>0.0</td>\n",
       "      <td>0.0</td>\n",
       "      <td>0</td>\n",
       "      <td>0.0</td>\n",
       "      <td>0.0</td>\n",
       "      <td>0.0</td>\n",
       "      <td>0.593663</td>\n",
       "      <td>0.0</td>\n",
       "    </tr>\n",
       "    <tr>\n",
       "      <th>2</th>\n",
       "      <td>0</td>\n",
       "      <td>3</td>\n",
       "      <td>0.0</td>\n",
       "      <td>0.0</td>\n",
       "      <td>0</td>\n",
       "      <td>0.0</td>\n",
       "      <td>0.0</td>\n",
       "      <td>0.0</td>\n",
       "      <td>0.004000</td>\n",
       "      <td>0.0</td>\n",
       "    </tr>\n",
       "    <tr>\n",
       "      <th>3</th>\n",
       "      <td>0</td>\n",
       "      <td>4</td>\n",
       "      <td>0.0</td>\n",
       "      <td>0.0</td>\n",
       "      <td>0</td>\n",
       "      <td>0.0</td>\n",
       "      <td>0.0</td>\n",
       "      <td>0.0</td>\n",
       "      <td>0.003000</td>\n",
       "      <td>0.0</td>\n",
       "    </tr>\n",
       "    <tr>\n",
       "      <th>4</th>\n",
       "      <td>0</td>\n",
       "      <td>5</td>\n",
       "      <td>0.0</td>\n",
       "      <td>0.0</td>\n",
       "      <td>0</td>\n",
       "      <td>0.0</td>\n",
       "      <td>0.0</td>\n",
       "      <td>0.0</td>\n",
       "      <td>0.003000</td>\n",
       "      <td>0.0</td>\n",
       "    </tr>\n",
       "  </tbody>\n",
       "</table>\n",
       "</div>"
      ],
      "text/plain": [
       "   j  t  x_2  x_3  x_1   xi    c    p         s    y\n",
       "0  0  1  0.0  0.0    0  0.0  0.0  0.0  0.569749  0.0\n",
       "1  0  2  0.0  0.0    0  0.0  0.0  0.0  0.593663  0.0\n",
       "2  0  3  0.0  0.0    0  0.0  0.0  0.0  0.004000  0.0\n",
       "3  0  4  0.0  0.0    0  0.0  0.0  0.0  0.003000  0.0\n",
       "4  0  5  0.0  0.0    0  0.0  0.0  0.0  0.003000  0.0"
      ]
     },
     "execution_count": 345,
     "metadata": {},
     "output_type": "execute_result"
    }
   ],
   "source": [
    "df_mcmc = compute_choice(df_mcmc, e_mcmc, beta, sigma, mu, omega)\n",
    "df_share_mcmc = compute_share(df_mcmc, e_mcmc, beta, sigma, mu, omega)\n",
    "\n",
    "print('shape of df_share_mcmc: ', df_share_mcmc.shape)\n",
    "df_share_mcmc.head()"
   ]
  },
  {
   "cell_type": "markdown",
   "metadata": {},
   "source": [
    "## 2.4"
   ]
  },
  {
   "cell_type": "code",
   "execution_count": 346,
   "metadata": {},
   "outputs": [],
   "source": [
    "# set parameters\n",
    "theta = beta.flatten().tolist()\n",
    "\n",
    "for item in sigma.flatten().tolist():\n",
    "    theta.append(item)\n",
    "    \n",
    "theta.append(mu)\n",
    "theta.append(omega)"
   ]
  },
  {
   "cell_type": "code",
   "execution_count": 380,
   "metadata": {},
   "outputs": [
    {
     "data": {
      "text/plain": [
       "[4.0,\n",
       " -0.46637270638775613,\n",
       " -0.7402161317158423,\n",
       " 1.7571458013055348,\n",
       " 0.1485999998327376,\n",
       " 0.11806668153127585,\n",
       " 0.5,\n",
       " 1]"
      ]
     },
     "execution_count": 380,
     "metadata": {},
     "output_type": "execute_result"
    }
   ],
   "source": [
    "theta"
   ]
  },
  {
   "cell_type": "markdown",
   "metadata": {},
   "source": [
    "## 2.5\n",
    "\n",
    "Write a function NLLS_objective(theta, df_share, X, M, V_mcmc, e_mcmc) that first computes the simulated share and then compute the mean-squared error between the share data."
   ]
  },
  {
   "cell_type": "code",
   "execution_count": 349,
   "metadata": {},
   "outputs": [],
   "source": [
    "def NLLS_objective(theta, df_share, X, M, V_mcmc, e_mcmc):\n",
    "    beta = theta[0:3]\n",
    "    sigma = theta[3:6]\n",
    "    mu = theta[6]\n",
    "    omega = theta[7]\n",
    "    \n",
    "    df_mcmc = X.merge(M, how = 'left')\n",
    "    df_mcmc = df_mcmc.merge(V_mcmc, how = 'left')\n",
    "    \n",
    "    df_mcmc = compute_choice(df_mcmc, e_mcmc, beta, sigma, mu, omega)\n",
    "    df_share_mcmc = compute_share(df_mcmc, e_mcmc, beta, sigma, mu, omega)  \n",
    "    \n",
    "    return np.power((df_share['s'] - df_share_mcmc['s']), 2).mean()"
   ]
  },
  {
   "cell_type": "code",
   "execution_count": 350,
   "metadata": {},
   "outputs": [
    {
     "data": {
      "text/plain": [
       "0.019209796202789953"
      ]
     },
     "execution_count": 350,
     "metadata": {},
     "output_type": "execute_result"
    }
   ],
   "source": [
    "NLLS_objective(theta, df_share, X, M, V_mcmc, e_mcmc)"
   ]
  },
  {
   "cell_type": "markdown",
   "metadata": {},
   "source": [
    "## 2.6"
   ]
  },
  {
   "cell_type": "markdown",
   "metadata": {},
   "source": [
    "Draw a graph of the objective function that varies each parameter from 0.5, 0.6, ⋯, 1.5 of the true value. First try with the actual shocks V and e and then try with the Monte Carlo shocks V_mcmc and e_mcmc. You will some of the graph does not look good with the Monte Carlo shocks. It will cause the approximation error."
   ]
  },
  {
   "cell_type": "code",
   "execution_count": 391,
   "metadata": {},
   "outputs": [
    {
     "data": {
      "image/png": "[encoded data removed]",
      "text/plain": [
       "<Figure size 432x288 with 1 Axes>"
      ]
     },
     "metadata": {
      "needs_background": "light"
     },
     "output_type": "display_data"
    }
   ],
   "source": [
    "# The graphs with the Monte Carlo shocks:\n",
    "output = []\n",
    "\n",
    "for para in [i+2 for i in range(10)]:\n",
    "    theta_try = theta.copy()\n",
    "    theta_try[0] = para\n",
    "    mse = NLLS_objective(theta_try, df_share, X, M, V_mcmc, e_mcmc)\n",
    "    output.append([para, mse])\n",
    "\n",
    "output = pd.DataFrame(output, columns =['beta_1', 'objective'])\n",
    "\n",
    "plt.scatter(output['beta_1'], output['objective'])\n",
    "plt.axvline(x = output.loc[output['objective'] == output['objective'].min(), 'beta_1'].values[0])\n",
    "plt.show()"
   ]
  },
  {
   "cell_type": "code",
   "execution_count": 390,
   "metadata": {},
   "outputs": [
    {
     "data": {
      "image/png": "[encoded data removed]",
      "text/plain": [
       "<Figure size 432x288 with 1 Axes>"
      ]
     },
     "metadata": {
      "needs_background": "light"
     },
     "output_type": "display_data"
    }
   ],
   "source": [
    "# The graphs with the true shocks:\n",
    "output = []\n",
    "\n",
    "for para in [i+2 for i in range(10)]:\n",
    "    theta_try = theta.copy()\n",
    "    theta_try[0] = para\n",
    "    mse = NLLS_objective(theta_try, df_share, X, M, V, e)\n",
    "    output.append([para, mse])\n",
    "\n",
    "output = pd.DataFrame(output, columns =['beta_1', 'objective'])\n",
    "\n",
    "plt.scatter(output['beta_1'], output['objective'])\n",
    "plt.axvline(x = output.loc[output['objective'] == output['objective'].min(), 'beta_1'].values[0])\n",
    "plt.show()"
   ]
  },
  {
   "cell_type": "code",
   "execution_count": null,
   "metadata": {},
   "outputs": [],
   "source": []
  }
 ],
 "metadata": {
  "kernelspec": {
   "display_name": "Python 3",
   "language": "python",
   "name": "python3"
  },
  "language_info": {
   "codemirror_mode": {
    "name": "ipython",
    "version": 3
   },
   "file_extension": ".py",
   "mimetype": "text/x-python",
   "name": "python",
   "nbconvert_exporter": "python",
   "pygments_lexer": "ipython3",
   "version": "3.8.5"
  }
 },
 "nbformat": 4,
 "nbformat_minor": 4
}
