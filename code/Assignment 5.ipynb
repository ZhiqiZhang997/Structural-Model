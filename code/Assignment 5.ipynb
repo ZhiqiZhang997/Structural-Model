{
 "cells": [
  {
   "cell_type": "markdown",
   "metadata": {},
   "source": [
    "# Assignment 5\n",
    "In Assignment 5, we consider a merge analysis.\n",
    "- Description of Assignment 5: [link](https://kohei-kawaguchi.github.io/EmpiricalIO/assignment5.html#estimate-the-parameters-3)"
   ]
  },
  {
   "cell_type": "code",
   "execution_count": 2,
   "metadata": {},
   "outputs": [],
   "source": [
    "# import packages\n",
    "import pandas as pd\n",
    "import numpy as np\n",
    "import statsmodels.api as sm\n",
    "from numba import jit, njit, prange\n",
    "import matplotlib.pyplot as plt\n",
    "from scipy.optimize import minimize"
   ]
  },
  {
   "cell_type": "code",
   "execution_count": 3,
   "metadata": {},
   "outputs": [],
   "source": [
    "import numba\n",
    "import warnings\n",
    "\n",
    "warnings.simplefilter('ignore', category=numba.errors.NumbaDeprecationWarning)\n",
    "warnings.simplefilter('ignore', category=numba.errors.NumbaPendingDeprecationWarning)"
   ]
  },
  {
   "cell_type": "markdown",
   "metadata": {},
   "source": [
    "# 1 Simulate data"
   ]
  },
  {
   "cell_type": "markdown",
   "metadata": {},
   "source": [
    "## 1.1 Set the seed, constants, and parameters of interest."
   ]
  },
  {
   "cell_type": "code",
   "execution_count": 4,
   "metadata": {},
   "outputs": [],
   "source": [
    "# set the seed\n",
    "np.random.seed(1019)\n",
    "# number of products\n",
    "J = 10\n",
    "# dimension of product characteristics including the intercept (=1)\n",
    "K = 3\n",
    "# number of markets\n",
    "T = 20\n",
    "# number of consumers per market\n",
    "N = 100\n",
    "# number of Monte Carlo\n",
    "L = 100"
   ]
  },
  {
   "cell_type": "markdown",
   "metadata": {},
   "source": [
    "- $[\\beta_{01}, \\cdots, \\beta_{0K}]$ is referred to as beta.\n",
    "- $[\\sigma_{1}, \\cdots, \\sigma_{K}]$ is referred to as sigma."
   ]
  },
  {
   "cell_type": "code",
   "execution_count": 5,
   "metadata": {},
   "outputs": [
    {
     "name": "stdout",
     "output_type": "stream",
     "text": [
      "beta:  [[ 4.        ]\n",
      " [-0.34712881]\n",
      " [-0.64393574]]\n",
      "sigma:  [[0.62307216]\n",
      " [1.0996384 ]\n",
      " [1.01118079]]\n"
     ]
    }
   ],
   "source": [
    "# set parameters of interest\n",
    "beta = np.random.standard_normal(size = (K,1))\n",
    "beta[0] = 4\n",
    "\n",
    "print('beta: ', beta)\n",
    "\n",
    "sigma = abs(np.random.standard_normal(size = (K,1))) \n",
    "print('sigma: ', sigma)\n",
    "\n",
    "mu = 0.5\n",
    "omega = 1"
   ]
  },
  {
   "cell_type": "code",
   "execution_count": 6,
   "metadata": {},
   "outputs": [],
   "source": [
    "# set auxiliary parameters\n",
    "price_xi = 1\n",
    "sd_x = 2\n",
    "sd_xi = 0.5\n",
    "sd_c = 0.05\n",
    "sd_p = 0.05"
   ]
  },
  {
   "cell_type": "markdown",
   "metadata": {},
   "source": [
    "## 1.2 X\n",
    "X is the data frame such that a row contains the characteristics vector $x_j$ of a product and columns are product index and observed product characteristics. The dimension of the characteristics $K$ is specified above. Add the row of the outside option whose index is 0 and all the characteristics are zero.\n",
    "\n",
    "- The product-market characteristics: $$x_{j1}=1, x_{jk}\\sim N(0, \\sigma_x), k=2,\\cdots,K,$$ where $\\sigma_x$ is referred to as sd_x in the code."
   ]
  },
  {
   "cell_type": "code",
   "execution_count": 7,
   "metadata": {},
   "outputs": [
    {
     "name": "stdout",
     "output_type": "stream",
     "text": [
      "shape of X:  (11, 4)\n"
     ]
    },
    {
     "data": {
      "text/html": [
       "<div>\n",
       "<style scoped>\n",
       "    .dataframe tbody tr th:only-of-type {\n",
       "        vertical-align: middle;\n",
       "    }\n",
       "\n",
       "    .dataframe tbody tr th {\n",
       "        vertical-align: top;\n",
       "    }\n",
       "\n",
       "    .dataframe thead th {\n",
       "        text-align: right;\n",
       "    }\n",
       "</style>\n",
       "<table border=\"1\" class=\"dataframe\">\n",
       "  <thead>\n",
       "    <tr style=\"text-align: right;\">\n",
       "      <th></th>\n",
       "      <th>x_2</th>\n",
       "      <th>x_3</th>\n",
       "      <th>x_1</th>\n",
       "      <th>j</th>\n",
       "    </tr>\n",
       "  </thead>\n",
       "  <tbody>\n",
       "    <tr>\n",
       "      <th>0</th>\n",
       "      <td>0.000000</td>\n",
       "      <td>0.000000</td>\n",
       "      <td>0</td>\n",
       "      <td>0</td>\n",
       "    </tr>\n",
       "    <tr>\n",
       "      <th>1</th>\n",
       "      <td>3.158113</td>\n",
       "      <td>0.468290</td>\n",
       "      <td>1</td>\n",
       "      <td>1</td>\n",
       "    </tr>\n",
       "    <tr>\n",
       "      <th>2</th>\n",
       "      <td>0.507840</td>\n",
       "      <td>3.493566</td>\n",
       "      <td>1</td>\n",
       "      <td>2</td>\n",
       "    </tr>\n",
       "    <tr>\n",
       "      <th>3</th>\n",
       "      <td>1.896881</td>\n",
       "      <td>-0.235369</td>\n",
       "      <td>1</td>\n",
       "      <td>3</td>\n",
       "    </tr>\n",
       "    <tr>\n",
       "      <th>4</th>\n",
       "      <td>-0.651372</td>\n",
       "      <td>-0.613362</td>\n",
       "      <td>1</td>\n",
       "      <td>4</td>\n",
       "    </tr>\n",
       "  </tbody>\n",
       "</table>\n",
       "</div>"
      ],
      "text/plain": [
       "        x_2       x_3  x_1  j\n",
       "0  0.000000  0.000000    0  0\n",
       "1  3.158113  0.468290    1  1\n",
       "2  0.507840  3.493566    1  2\n",
       "3  1.896881 -0.235369    1  3\n",
       "4 -0.651372 -0.613362    1  4"
      ]
     },
     "execution_count": 7,
     "metadata": {},
     "output_type": "execute_result"
    }
   ],
   "source": [
    "# X product-market characteristics\n",
    "X = np.random.normal(scale = sd_x, size = (J+1,K-1))\n",
    "X = pd.DataFrame(X, columns = ['x_2', 'x_3'])\n",
    "X['x_1'] = 1\n",
    "X['j'] = X.index\n",
    "X.loc[X['j'] == 0, ['x_1', 'x_2', 'x_3']] = 0\n",
    "\n",
    "print('shape of X: ', X.shape)\n",
    "X.head()"
   ]
  },
  {
   "cell_type": "markdown",
   "metadata": {},
   "source": [
    "## 1.3 M\n",
    "M is the data frame such that a row contains the product-market specific fixed effect $\\xi_{jt}$, marginal cost $c_{jt}$, and price $p_{jt}$. **For now, set $p_{jt}=0$ and fill the equilibrium price later.** In order to change the number of available products in each market, for each market, first draw $J_t$ from a discrete uniform distribution between 1 and $J$. The variation in the available products is important for the identification of the distribution of consumer-level unobserved heterogeneity. Add the row of the outside option to each market whose index is 0 and all the variables take value zero.\n",
    "\n",
    "- We draw $\\xi_{jt}$ from i.i.d. normal distribution with mean 0 and standard deviation $\\sigma_{\\xi}$: $$\\xi_{jt}\\sim Normal(0, \\sigma_{\\xi})$$\n",
    "  - $\\xi_{jt}$ is product-market specific fixed effect. $p_{jt}$ can be correlated with $\\xi_{jt}$ but $x_{jt}$s are independent of $\\xi_{jt}$.\n",
    "\n",
    "- The marginal cost of product $j$ in market $t$: $$c_{jt}\\sim logNormal(0, \\sigma_c),$$ where $\\sigma_c$ is referred to as sd_c in the code.\n"
   ]
  },
  {
   "cell_type": "code",
   "execution_count": 8,
   "metadata": {},
   "outputs": [
    {
     "name": "stdout",
     "output_type": "stream",
     "text": [
      "shape of M:  (109, 5)\n"
     ]
    },
    {
     "data": {
      "text/html": [
       "<div>\n",
       "<style scoped>\n",
       "    .dataframe tbody tr th:only-of-type {\n",
       "        vertical-align: middle;\n",
       "    }\n",
       "\n",
       "    .dataframe tbody tr th {\n",
       "        vertical-align: top;\n",
       "    }\n",
       "\n",
       "    .dataframe thead th {\n",
       "        text-align: right;\n",
       "    }\n",
       "</style>\n",
       "<table border=\"1\" class=\"dataframe\">\n",
       "  <thead>\n",
       "    <tr style=\"text-align: right;\">\n",
       "      <th></th>\n",
       "      <th>j</th>\n",
       "      <th>t</th>\n",
       "      <th>xi</th>\n",
       "      <th>c</th>\n",
       "      <th>p</th>\n",
       "    </tr>\n",
       "  </thead>\n",
       "  <tbody>\n",
       "    <tr>\n",
       "      <th>119</th>\n",
       "      <td>6.0</td>\n",
       "      <td>20</td>\n",
       "      <td>-0.834950</td>\n",
       "      <td>1.050409</td>\n",
       "      <td>0.0</td>\n",
       "    </tr>\n",
       "    <tr>\n",
       "      <th>99</th>\n",
       "      <td>5.0</td>\n",
       "      <td>20</td>\n",
       "      <td>0.004312</td>\n",
       "      <td>0.990717</td>\n",
       "      <td>0.0</td>\n",
       "    </tr>\n",
       "    <tr>\n",
       "      <th>118</th>\n",
       "      <td>6.0</td>\n",
       "      <td>19</td>\n",
       "      <td>0.558018</td>\n",
       "      <td>0.953264</td>\n",
       "      <td>0.0</td>\n",
       "    </tr>\n",
       "    <tr>\n",
       "      <th>98</th>\n",
       "      <td>5.0</td>\n",
       "      <td>19</td>\n",
       "      <td>0.392971</td>\n",
       "      <td>0.957834</td>\n",
       "      <td>0.0</td>\n",
       "    </tr>\n",
       "    <tr>\n",
       "      <th>158</th>\n",
       "      <td>8.0</td>\n",
       "      <td>19</td>\n",
       "      <td>0.062806</td>\n",
       "      <td>1.072073</td>\n",
       "      <td>0.0</td>\n",
       "    </tr>\n",
       "  </tbody>\n",
       "</table>\n",
       "</div>"
      ],
      "text/plain": [
       "       j   t        xi         c    p\n",
       "119  6.0  20 -0.834950  1.050409  0.0\n",
       "99   5.0  20  0.004312  0.990717  0.0\n",
       "118  6.0  19  0.558018  0.953264  0.0\n",
       "98   5.0  19  0.392971  0.957834  0.0\n",
       "158  8.0  19  0.062806  1.072073  0.0"
      ]
     },
     "execution_count": 8,
     "metadata": {},
     "output_type": "execute_result"
    }
   ],
   "source": [
    "# j = 1, 2, ..., J; t = 1, 2, ..., T\n",
    "M = pd.DataFrame([(j+1,1) for j in range(J)], columns = ['j', 'temp'])\\\n",
    ".merge(pd.DataFrame([(t+1,1) for t in range(T)], columns = ['t', 'temp']), how = 'outer')\n",
    "M.drop(columns = 'temp', inplace =True)\n",
    "\n",
    "M['xi'] = np.random.normal(scale = sd_xi, size = (len(M),1))\n",
    "M['c'] = np.random.lognormal(sigma = sd_c, size = (len(M),1))\n",
    "M['p'] = 0\n",
    "\n",
    "M.sort_values(by = ['t', 'j'], inplace = True)\n",
    "\n",
    "# for each market, draw 𝐽𝑡 from a discrete uniform distribution between 1 and  𝐽\n",
    "temp2 = pd.DataFrame()\n",
    "for t in M.t.unique():\n",
    "    J_t = np.random.randint(1, J)\n",
    "    temp1 = M[M.t == t].sample(n = J_t, random_state = 230)\n",
    "    temp2 = pd.concat([temp1, temp2])\n",
    "    \n",
    "# add the row of the outside option to each market whose index is 0 and all the variables take value zero.\n",
    "# M.loc[M.j == 0, ['xi','c', 'p']] = 0\n",
    "temp3 = M[['t']].drop_duplicates()\n",
    "for col in ['j', 'xi', 'c', 'p']:\n",
    "    temp3[col] = np.zeros(shape = (len(temp3), 1))\n",
    "\n",
    "M = pd.concat([temp2, temp3])\n",
    "print('shape of M: ', M.shape)\n",
    "M.head()"
   ]
  },
  {
   "cell_type": "markdown",
   "metadata": {},
   "source": [
    "## 1.4 V\n",
    "Generate the consumer-level heterogeneity. V is the data frame such that a row contains the vector of shocks to consumer-level heterogeneity, $(v_i', v_i)$ . They are all i.i.d. standard normal random variables.\n",
    "\n",
    "- $\\beta_{itk} = \\beta_{0k} + \\sigma_k v_{itk},$ where $v_{itk}$ for $k=1,2,\\cdots, K$ are i.i.d. standard normal random variables.\n",
    "  \n",
    "- $\\alpha_{it} = -exp(\\mu + \\omega v_{it}) = -exp(\\mu + \\omega^2/2) + [-exp(\\mu + \\omega v_{it}) + exp(\\mu + \\omega^2/2)] = \\alpha_0 + \\tilde{\\alpha}_{it},$ where $v_{it}$ are i.i.d. standard normal random variables."
   ]
  },
  {
   "cell_type": "code",
   "execution_count": 8,
   "metadata": {},
   "outputs": [
    {
     "name": "stdout",
     "output_type": "stream",
     "text": [
      "shape of V:  (2000, 6)\n"
     ]
    },
    {
     "data": {
      "text/html": [
       "<div>\n",
       "<style scoped>\n",
       "    .dataframe tbody tr th:only-of-type {\n",
       "        vertical-align: middle;\n",
       "    }\n",
       "\n",
       "    .dataframe tbody tr th {\n",
       "        vertical-align: top;\n",
       "    }\n",
       "\n",
       "    .dataframe thead th {\n",
       "        text-align: right;\n",
       "    }\n",
       "</style>\n",
       "<table border=\"1\" class=\"dataframe\">\n",
       "  <thead>\n",
       "    <tr style=\"text-align: right;\">\n",
       "      <th></th>\n",
       "      <th>i</th>\n",
       "      <th>t</th>\n",
       "      <th>v_x_1</th>\n",
       "      <th>v_x_2</th>\n",
       "      <th>v_x_3</th>\n",
       "      <th>v_p</th>\n",
       "    </tr>\n",
       "  </thead>\n",
       "  <tbody>\n",
       "    <tr>\n",
       "      <th>0</th>\n",
       "      <td>1</td>\n",
       "      <td>1</td>\n",
       "      <td>0.222337</td>\n",
       "      <td>-0.505634</td>\n",
       "      <td>0.455673</td>\n",
       "      <td>1.069062</td>\n",
       "    </tr>\n",
       "    <tr>\n",
       "      <th>1</th>\n",
       "      <td>1</td>\n",
       "      <td>2</td>\n",
       "      <td>0.488172</td>\n",
       "      <td>-1.162879</td>\n",
       "      <td>-1.162611</td>\n",
       "      <td>0.052533</td>\n",
       "    </tr>\n",
       "    <tr>\n",
       "      <th>2</th>\n",
       "      <td>1</td>\n",
       "      <td>3</td>\n",
       "      <td>0.568830</td>\n",
       "      <td>1.252223</td>\n",
       "      <td>-0.197146</td>\n",
       "      <td>1.563581</td>\n",
       "    </tr>\n",
       "    <tr>\n",
       "      <th>3</th>\n",
       "      <td>1</td>\n",
       "      <td>4</td>\n",
       "      <td>0.781116</td>\n",
       "      <td>-0.655212</td>\n",
       "      <td>0.743714</td>\n",
       "      <td>0.805346</td>\n",
       "    </tr>\n",
       "    <tr>\n",
       "      <th>4</th>\n",
       "      <td>1</td>\n",
       "      <td>5</td>\n",
       "      <td>0.933814</td>\n",
       "      <td>0.819826</td>\n",
       "      <td>-1.413157</td>\n",
       "      <td>-0.051522</td>\n",
       "    </tr>\n",
       "  </tbody>\n",
       "</table>\n",
       "</div>"
      ],
      "text/plain": [
       "   i  t     v_x_1     v_x_2     v_x_3       v_p\n",
       "0  1  1  0.222337 -0.505634  0.455673  1.069062\n",
       "1  1  2  0.488172 -1.162879 -1.162611  0.052533\n",
       "2  1  3  0.568830  1.252223 -0.197146  1.563581\n",
       "3  1  4  0.781116 -0.655212  0.743714  0.805346\n",
       "4  1  5  0.933814  0.819826 -1.413157 -0.051522"
      ]
     },
     "execution_count": 8,
     "metadata": {},
     "output_type": "execute_result"
    }
   ],
   "source": [
    "V = pd.DataFrame([(i+1,1) for i in range(N)], columns = ['i', 'temp'])\\\n",
    ".merge(pd.DataFrame([(t+1,1) for t in range(T)], columns = ['t', 'temp']), how = 'outer')\n",
    "V.drop(columns = 'temp', inplace =True)\n",
    "for col in ['v_x_1', 'v_x_2', 'v_x_3', 'v_p']:\n",
    "    V[col] = np.random.normal(size = (N*T, 1))\n",
    "\n",
    "print('shape of V: ', V.shape)\n",
    "V.head()"
   ]
  },
  {
   "cell_type": "markdown",
   "metadata": {},
   "source": [
    "## 1.5 df\n",
    "Join $X$, $M$, $V$ and name it df. df is the data frame such that a row contains variables for a consumer about a product that is available in a market."
   ]
  },
  {
   "cell_type": "code",
   "execution_count": 9,
   "metadata": {},
   "outputs": [
    {
     "name": "stdout",
     "output_type": "stream",
     "text": [
      "shape of df:  (12600, 13)\n"
     ]
    },
    {
     "data": {
      "text/html": [
       "<div>\n",
       "<style scoped>\n",
       "    .dataframe tbody tr th:only-of-type {\n",
       "        vertical-align: middle;\n",
       "    }\n",
       "\n",
       "    .dataframe tbody tr th {\n",
       "        vertical-align: top;\n",
       "    }\n",
       "\n",
       "    .dataframe thead th {\n",
       "        text-align: right;\n",
       "    }\n",
       "</style>\n",
       "<table border=\"1\" class=\"dataframe\">\n",
       "  <thead>\n",
       "    <tr style=\"text-align: right;\">\n",
       "      <th></th>\n",
       "      <th>j</th>\n",
       "      <th>t</th>\n",
       "      <th>xi</th>\n",
       "      <th>c</th>\n",
       "      <th>p</th>\n",
       "      <th>x_2</th>\n",
       "      <th>x_3</th>\n",
       "      <th>x_1</th>\n",
       "      <th>i</th>\n",
       "      <th>v_x_1</th>\n",
       "      <th>v_x_2</th>\n",
       "      <th>v_x_3</th>\n",
       "      <th>v_p</th>\n",
       "    </tr>\n",
       "  </thead>\n",
       "  <tbody>\n",
       "    <tr>\n",
       "      <th>10600</th>\n",
       "      <td>0.0</td>\n",
       "      <td>1</td>\n",
       "      <td>0.000000</td>\n",
       "      <td>0.000000</td>\n",
       "      <td>0.000000</td>\n",
       "      <td>0.000000</td>\n",
       "      <td>0.000000</td>\n",
       "      <td>0</td>\n",
       "      <td>1</td>\n",
       "      <td>0.222337</td>\n",
       "      <td>-0.505634</td>\n",
       "      <td>0.455673</td>\n",
       "      <td>1.069062</td>\n",
       "    </tr>\n",
       "    <tr>\n",
       "      <th>10500</th>\n",
       "      <td>5.0</td>\n",
       "      <td>1</td>\n",
       "      <td>0.140941</td>\n",
       "      <td>1.001834</td>\n",
       "      <td>2.141619</td>\n",
       "      <td>4.584802</td>\n",
       "      <td>3.153910</td>\n",
       "      <td>1</td>\n",
       "      <td>1</td>\n",
       "      <td>0.222337</td>\n",
       "      <td>-0.505634</td>\n",
       "      <td>0.455673</td>\n",
       "      <td>1.069062</td>\n",
       "    </tr>\n",
       "    <tr>\n",
       "      <th>10400</th>\n",
       "      <td>6.0</td>\n",
       "      <td>1</td>\n",
       "      <td>-0.090019</td>\n",
       "      <td>1.018559</td>\n",
       "      <td>1.896693</td>\n",
       "      <td>4.112289</td>\n",
       "      <td>1.729779</td>\n",
       "      <td>1</td>\n",
       "      <td>1</td>\n",
       "      <td>0.222337</td>\n",
       "      <td>-0.505634</td>\n",
       "      <td>0.455673</td>\n",
       "      <td>1.069062</td>\n",
       "    </tr>\n",
       "    <tr>\n",
       "      <th>10601</th>\n",
       "      <td>0.0</td>\n",
       "      <td>1</td>\n",
       "      <td>0.000000</td>\n",
       "      <td>0.000000</td>\n",
       "      <td>0.000000</td>\n",
       "      <td>0.000000</td>\n",
       "      <td>0.000000</td>\n",
       "      <td>0</td>\n",
       "      <td>2</td>\n",
       "      <td>1.217603</td>\n",
       "      <td>0.344503</td>\n",
       "      <td>0.116888</td>\n",
       "      <td>-0.073015</td>\n",
       "    </tr>\n",
       "    <tr>\n",
       "      <th>10501</th>\n",
       "      <td>5.0</td>\n",
       "      <td>1</td>\n",
       "      <td>0.140941</td>\n",
       "      <td>1.001834</td>\n",
       "      <td>2.141619</td>\n",
       "      <td>4.584802</td>\n",
       "      <td>3.153910</td>\n",
       "      <td>1</td>\n",
       "      <td>2</td>\n",
       "      <td>1.217603</td>\n",
       "      <td>0.344503</td>\n",
       "      <td>0.116888</td>\n",
       "      <td>-0.073015</td>\n",
       "    </tr>\n",
       "  </tbody>\n",
       "</table>\n",
       "</div>"
      ],
      "text/plain": [
       "         j  t        xi         c         p       x_2       x_3  x_1  i  \\\n",
       "10600  0.0  1  0.000000  0.000000  0.000000  0.000000  0.000000    0  1   \n",
       "10500  5.0  1  0.140941  1.001834  2.141619  4.584802  3.153910    1  1   \n",
       "10400  6.0  1 -0.090019  1.018559  1.896693  4.112289  1.729779    1  1   \n",
       "10601  0.0  1  0.000000  0.000000  0.000000  0.000000  0.000000    0  2   \n",
       "10501  5.0  1  0.140941  1.001834  2.141619  4.584802  3.153910    1  2   \n",
       "\n",
       "          v_x_1     v_x_2     v_x_3       v_p  \n",
       "10600  0.222337 -0.505634  0.455673  1.069062  \n",
       "10500  0.222337 -0.505634  0.455673  1.069062  \n",
       "10400  0.222337 -0.505634  0.455673  1.069062  \n",
       "10601  1.217603  0.344503  0.116888 -0.073015  \n",
       "10501  1.217603  0.344503  0.116888 -0.073015  "
      ]
     },
     "execution_count": 9,
     "metadata": {},
     "output_type": "execute_result"
    }
   ],
   "source": [
    "df = M.merge(X, how = 'left')\n",
    "df = df.merge(V, how = 'left')\n",
    "df.sort_values(by = ['t', 'i', 'j'], inplace =True)\n",
    "\n",
    "print('shape of df: ', df.shape)\n",
    "df.head()"
   ]
  },
  {
   "cell_type": "markdown",
   "metadata": {},
   "source": [
    "## 1.6 e\n",
    "Draw a vector of preference shocks e whose length is the same as the number of rows of df."
   ]
  },
  {
   "cell_type": "code",
   "execution_count": 10,
   "metadata": {},
   "outputs": [
    {
     "name": "stdout",
     "output_type": "stream",
     "text": [
      "shape of e:  (12600, 1)\n"
     ]
    },
    {
     "data": {
      "text/plain": [
       "array([[ 0.16418068],\n",
       "       [-0.81040583],\n",
       "       [-0.55379447],\n",
       "       ...,\n",
       "       [ 1.45825932],\n",
       "       [-1.30366683],\n",
       "       [ 3.45069786]])"
      ]
     },
     "execution_count": 10,
     "metadata": {},
     "output_type": "execute_result"
    }
   ],
   "source": [
    "e = np.random.gumbel(size = (len(df), 1))\n",
    "\n",
    "print('shape of e: ', e.shape)\n",
    "\n",
    "e"
   ]
  },
  {
   "cell_type": "markdown",
   "metadata": {},
   "source": [
    "# compute_derivative_share_smooth"
   ]
  },
  {
   "cell_type": "code",
   "execution_count": 11,
   "metadata": {},
   "outputs": [],
   "source": [
    "def compute_indirect_utility(df, beta, sigma, mu, omega):\n",
    "    u = (beta[0]+sigma[0]*df.v_x_1)*df.x_1 + (beta[1]+sigma[1]*df.v_x_2)*df.x_2 + (beta[2]+sigma[2]*df.v_x_3)*df.x_3 - \\\n",
    "    np.exp(mu + omega*df.v_p)*df.p + \\\n",
    "    df.xi\n",
    "    return u"
   ]
  },
  {
   "cell_type": "code",
   "execution_count": 13,
   "metadata": {},
   "outputs": [],
   "source": [
    "def compute_choice_smooth(df, beta, sigma, mu, omega):\n",
    "    df['u'] = compute_indirect_utility(df, beta, sigma, mu, omega)\n",
    "    df['exp_u'] = np.exp(df['u'])\n",
    "    \n",
    "    temp = df.groupby(['t']).agg({'exp_u':'sum'}).reset_index()\n",
    "    temp.columns = ['t', 'sum_exp_u']\n",
    "    df = df.merge(temp, how = 'left')\n",
    "    df['q'] = df['exp_u']/df['sum_exp_u']\n",
    "    df.drop(columns = ['exp_u', 'sum_exp_u'], inplace = True)\n",
    "    return df"
   ]
  },
  {
   "cell_type": "code",
   "execution_count": 15,
   "metadata": {},
   "outputs": [],
   "source": [
    "def compute_share_smooth(df, e, beta, sigma, mu, omega):\n",
    "    df_choice_smooth = compute_choice_smooth(df, beta, sigma, mu, omega)\n",
    "    \n",
    "    temp1 = df_choice_smooth.groupby(['j', 't', 'x_1', 'x_2', 'x_3',  'xi', 'c', 'p']).agg({'q': 'mean'}).reset_index()\n",
    "    temp1.columns = ['j', 't', 'x_1', 'x_2', 'x_3',  'xi', 'c', 'p', 's']\n",
    "\n",
    "    temp2 = temp1.loc[temp1.j == 0, ['t','s']]\n",
    "    temp2.columns = ['t', 's_0']\n",
    "    \n",
    "    temp1 = temp1.merge(temp2, how = 'left')\n",
    "    temp1['y'] = np.log(temp1['s']) - np.log(temp1['s_0'])\n",
    "    return temp1[['j', 't', 'x_2', 'x_3', 'x_1', 'xi', 'c', 'p', 's', 'y']]"
   ]
  },
  {
   "cell_type": "markdown",
   "metadata": {},
   "source": [
    "The choice probability of product $j$ for consumer $i$ in market $t$ is $\\sigma_{ijt}(p_t, x_t, \\xi_t)$\n",
    "\n",
    " \n",
    "\n",
    "Suppose that we only observe the (smooth) share data:\n",
    "$$s_{jt}(p_t, x_t,\\xi_t) = \\frac{1}{N} \\sum_{i=1}^{N}\\sigma_{ijt}(p_t, x_t,\\xi_t)$$\n",
    "\n",
    "Thus, \n",
    "$$\\frac{\\partial s_{jt}(p_t, x_t,\\xi_t)}{\\partial p_{kt}}=\\frac{1}{N} \\sum_{i=1}^{N}\\sigma_{ijt}(p_t, x_t,\\xi_t)$$"
   ]
  },
  {
   "cell_type": "code",
   "execution_count": null,
   "metadata": {},
   "outputs": [],
   "source": [
    "def compute_derivative_share_smooth():"
   ]
  },
  {
   "cell_type": "code",
   "execution_count": null,
   "metadata": {},
   "outputs": [],
   "source": []
  },
  {
   "cell_type": "code",
   "execution_count": null,
   "metadata": {},
   "outputs": [],
   "source": []
  },
  {
   "cell_type": "code",
   "execution_count": null,
   "metadata": {},
   "outputs": [],
   "source": []
  }
 ],
 "metadata": {
  "kernelspec": {
   "display_name": "Python 3",
   "language": "python",
   "name": "python3"
  },
  "language_info": {
   "codemirror_mode": {
    "name": "ipython",
    "version": 3
   },
   "file_extension": ".py",
   "mimetype": "text/x-python",
   "name": "python",
   "nbconvert_exporter": "python",
   "pygments_lexer": "ipython3",
   "version": "3.8.5"
  }
 },
 "nbformat": 4,
 "nbformat_minor": 4
}
