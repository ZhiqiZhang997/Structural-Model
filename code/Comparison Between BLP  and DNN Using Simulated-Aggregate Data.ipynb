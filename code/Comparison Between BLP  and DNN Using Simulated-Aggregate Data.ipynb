{
 "cells": [
  {
   "cell_type": "code",
   "execution_count": 2,
   "metadata": {},
   "outputs": [],
   "source": [
    "# import packages\n",
    "import pandas as pd\n",
    "import numpy as np\n",
    "import statsmodels.api as sm\n",
    "from numba import jit, njit, prange\n",
    "import matplotlib.pyplot as plt\n",
    "from scipy.optimize import minimize"
   ]
  },
  {
   "cell_type": "markdown",
   "metadata": {},
   "source": [
    "# 1 Data"
   ]
  },
  {
   "cell_type": "markdown",
   "metadata": {},
   "source": [
    "## 1.1 Observed Data \n",
    "For $J$ products in $T$ markets, suppose we only observe\n",
    "- shares\n",
    "- product retail prices\n",
    "- product characteristics"
   ]
  },
  {
   "cell_type": "markdown",
   "metadata": {},
   "source": [
    "### $J$ products, $T$ markets, and $K$ product characteristics "
   ]
  },
  {
   "cell_type": "code",
   "execution_count": 3,
   "metadata": {},
   "outputs": [],
   "source": [
    "# set the seed\n",
    "np.random.seed(1019)\n",
    "# number of products\n",
    "J = 10\n",
    "# dimension of product characteristics including the intercept (=1)\n",
    "K = 5\n",
    "# number of markets\n",
    "T = 10"
   ]
  },
  {
   "cell_type": "markdown",
   "metadata": {},
   "source": [
    "### Product Characteristics: X\n",
    "X is the data frame such that a row contains the characteristics vector $x_j$ of a product and columns are product index and observed product characteristics. The dimension of the characteristics $K$ is specified above. Add the row of the outside option whose index is 0 and all the characteristics are zero.\n",
    "\n",
    "- The product-market characteristics: $$x_{j1}=1 \\text{  (meaning intercept)  }, x_{jk}\\sim N(0, \\sigma_x), k=2,\\cdots,K,$$ where $\\sigma_x$ is referred to as sd_x in the code."
   ]
  },
  {
   "cell_type": "code",
   "execution_count": 4,
   "metadata": {},
   "outputs": [
    {
     "name": "stdout",
     "output_type": "stream",
     "text": [
      "shape of X:  (11, 6)\n"
     ]
    },
    {
     "data": {
      "text/html": [
       "<div>\n",
       "<style scoped>\n",
       "    .dataframe tbody tr th:only-of-type {\n",
       "        vertical-align: middle;\n",
       "    }\n",
       "\n",
       "    .dataframe tbody tr th {\n",
       "        vertical-align: top;\n",
       "    }\n",
       "\n",
       "    .dataframe thead th {\n",
       "        text-align: right;\n",
       "    }\n",
       "</style>\n",
       "<table border=\"1\" class=\"dataframe\">\n",
       "  <thead>\n",
       "    <tr style=\"text-align: right;\">\n",
       "      <th></th>\n",
       "      <th>x_1</th>\n",
       "      <th>x_2</th>\n",
       "      <th>x_3</th>\n",
       "      <th>x_4</th>\n",
       "      <th>x_5</th>\n",
       "      <th>j</th>\n",
       "    </tr>\n",
       "  </thead>\n",
       "  <tbody>\n",
       "    <tr>\n",
       "      <th>0</th>\n",
       "      <td>0</td>\n",
       "      <td>0.000000</td>\n",
       "      <td>0.000000</td>\n",
       "      <td>0.000000</td>\n",
       "      <td>0.000000</td>\n",
       "      <td>0</td>\n",
       "    </tr>\n",
       "    <tr>\n",
       "      <th>1</th>\n",
       "      <td>1</td>\n",
       "      <td>-0.735912</td>\n",
       "      <td>-0.580679</td>\n",
       "      <td>3.158113</td>\n",
       "      <td>0.468290</td>\n",
       "      <td>1</td>\n",
       "    </tr>\n",
       "    <tr>\n",
       "      <th>2</th>\n",
       "      <td>1</td>\n",
       "      <td>3.493566</td>\n",
       "      <td>1.896881</td>\n",
       "      <td>-0.235369</td>\n",
       "      <td>-0.651372</td>\n",
       "      <td>2</td>\n",
       "    </tr>\n",
       "    <tr>\n",
       "      <th>3</th>\n",
       "      <td>1</td>\n",
       "      <td>4.584802</td>\n",
       "      <td>3.153910</td>\n",
       "      <td>4.112289</td>\n",
       "      <td>1.729779</td>\n",
       "      <td>3</td>\n",
       "    </tr>\n",
       "    <tr>\n",
       "      <th>4</th>\n",
       "      <td>1</td>\n",
       "      <td>1.638937</td>\n",
       "      <td>0.032865</td>\n",
       "      <td>-5.254284</td>\n",
       "      <td>6.444651</td>\n",
       "      <td>4</td>\n",
       "    </tr>\n",
       "  </tbody>\n",
       "</table>\n",
       "</div>"
      ],
      "text/plain": [
       "   x_1       x_2       x_3       x_4       x_5  j\n",
       "0    0  0.000000  0.000000  0.000000  0.000000  0\n",
       "1    1 -0.735912 -0.580679  3.158113  0.468290  1\n",
       "2    1  3.493566  1.896881 -0.235369 -0.651372  2\n",
       "3    1  4.584802  3.153910  4.112289  1.729779  3\n",
       "4    1  1.638937  0.032865 -5.254284  6.444651  4"
      ]
     },
     "execution_count": 4,
     "metadata": {},
     "output_type": "execute_result"
    }
   ],
   "source": [
    "# X product characteristics\n",
    "sd_x = 2\n",
    "\n",
    "col = []\n",
    "for i in range(K):\n",
    "    col.append('x_'+str(i+1))\n",
    "\n",
    "X = np.random.normal(scale = sd_x, size = (J+1,K))\n",
    "X = pd.DataFrame(X, columns = col)\n",
    "\n",
    "X['x_1'] = 1\n",
    "X['j'] = X.index\n",
    "X.loc[X['j'] == 0, col] = 0\n",
    "\n",
    "print('shape of X: ', X.shape)\n",
    "X.head()"
   ]
  },
  {
   "cell_type": "markdown",
   "metadata": {},
   "source": [
    "### Market-Product Characteristics: M"
   ]
  },
  {
   "cell_type": "code",
   "execution_count": 5,
   "metadata": {},
   "outputs": [],
   "source": [
    "# j = 1, 2, ..., J; t = 1, 2, ..., T\n",
    "M = pd.DataFrame([(j+1,1) for j in range(J)], columns = ['j', 'temp'])\\\n",
    ".merge(pd.DataFrame([(t+1,1) for t in range(T)], columns = ['t', 'temp']), how = 'outer')\n",
    "M.drop(columns = 'temp', inplace =True)"
   ]
  },
  {
   "cell_type": "markdown",
   "metadata": {},
   "source": [
    "- The product-market specific fixed effect $\\xi_{jt}$: $p_{jt}$ can be correlated with $\\xi_{jt}$ but $x_{jt}$s are independent of $\\xi_{jt}$.\n",
    "  1. We set $\\xi_{jt} = 0$ in this task.\n",
    "  1. Or we draw $\\xi_{jt}$ from i.i.d. normal distribution with mean 0 and standard deviation $\\sigma_{\\xi}$ in the next task.: $$\\xi_{jt}\\sim Normal(0, \\sigma_{\\xi})$$\n",
    "\n",
    "\n",
    "- The marginal cost of product $j$ in market $t$: $$c_{jt}\\sim logNormal(0, \\sigma_c),$$ where $\\sigma_c$ is referred to as sd_c in the code.\n",
    "\n",
    "- The retail price: $$p_{jt}-c_{jt} \\sim logNormal(\\gamma \\xi_{jt}, \\sigma_p),$$ where $\\gamma$ is referred to as price_xi, and $\\sigma_p$ as sd_p in the code. This price is not the equilibrium price."
   ]
  },
  {
   "cell_type": "code",
   "execution_count": 6,
   "metadata": {},
   "outputs": [],
   "source": [
    "price_xi = 1\n",
    "# sd_xi = 0.5\n",
    "sd_c = 0.05\n",
    "sd_p = 0.05\n",
    "\n",
    "M['xi'] = np.zeros(shape = (len(M),1))\n",
    "# M['xi'] = np.random.normal(scale = sd_xi, size = (len(M),1))\n",
    "M['c'] = np.random.lognormal(sigma = sd_c, size = (len(M),1))\n",
    "M['p'] = M.apply(lambda x: np.random.lognormal(mean = price_xi * x.xi, sigma = sd_p), axis = 1)\n",
    "M['p'] = M['p'] + M['c']"
   ]
  },
  {
   "cell_type": "markdown",
   "metadata": {},
   "source": [
    "## Simulate the Process of Generating Data"
   ]
  },
  {
   "cell_type": "markdown",
   "metadata": {},
   "source": [
    "The indirect utility of consumer $i$ in market $t$ for product $j$ is: $$u_{itj}=\\beta_{it}'x_j + \\alpha_{it}p_{jt} +\\xi_{jt} + \\epsilon_{ijt}$$"
   ]
  },
  {
   "cell_type": "code",
   "execution_count": null,
   "metadata": {},
   "outputs": [],
   "source": []
  }
 ],
 "metadata": {
  "kernelspec": {
   "display_name": "Python 3",
   "language": "python",
   "name": "python3"
  },
  "language_info": {
   "codemirror_mode": {
    "name": "ipython",
    "version": 3
   },
   "file_extension": ".py",
   "mimetype": "text/x-python",
   "name": "python",
   "nbconvert_exporter": "python",
   "pygments_lexer": "ipython3",
   "version": "3.8.5"
  }
 },
 "nbformat": 4,
 "nbformat_minor": 4
}
